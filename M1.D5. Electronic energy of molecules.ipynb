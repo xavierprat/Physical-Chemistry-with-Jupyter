{
 "cells": [
  {
   "cell_type": "markdown",
   "id": "95aeae8c",
   "metadata": {
    "toc": true
   },
   "source": [
    "<h1>Table of Contents<span class=\"tocSkip\"></span></h1>\n",
    "<div class=\"toc\"><ul class=\"toc-item\"><li><span><a href=\"#Electronic-energy-of-molecules\" data-toc-modified-id=\"Electronic-energy-of-molecules-1\"><span class=\"toc-item-num\">1&nbsp;&nbsp;</span>Electronic energy of molecules</a></span><ul class=\"toc-item\"><li><span><a href=\"#The-Born-Oppenheimer-approximation-and-potential-energy-surface\" data-toc-modified-id=\"The-Born-Oppenheimer-approximation-and-potential-energy-surface-1.1\"><span class=\"toc-item-num\">1.1&nbsp;&nbsp;</span>The Born-Oppenheimer approximation and potential energy surface</a></span></li></ul></li><li><span><a href=\"#Single-point-energy-of-molecules\" data-toc-modified-id=\"Single-point-energy-of-molecules-2\"><span class=\"toc-item-num\">2&nbsp;&nbsp;</span>Single point energy of molecules</a></span><ul class=\"toc-item\"><li><span><a href=\"#We-cannot-always-foresee-the-most-stable-spin\" data-toc-modified-id=\"We-cannot-always-foresee-the-most-stable-spin-2.1\"><span class=\"toc-item-num\">2.1&nbsp;&nbsp;</span>We cannot always foresee the most stable spin</a></span></li><li><span><a href=\"#Population-analysis\" data-toc-modified-id=\"Population-analysis-2.2\"><span class=\"toc-item-num\">2.2&nbsp;&nbsp;</span>Population analysis</a></span></li></ul></li><li><span><a href=\"#Scanning-a-distance-to-find-bond-distance\" data-toc-modified-id=\"Scanning-a-distance-to-find-bond-distance-3\"><span class=\"toc-item-num\">3&nbsp;&nbsp;</span>Scanning a distance to find bond distance</a></span><ul class=\"toc-item\"><li><span><a href=\"#Homolythic-and-Heterolythic-breaking-of-a-bond\" data-toc-modified-id=\"Homolythic-and-Heterolythic-breaking-of-a-bond-3.1\"><span class=\"toc-item-num\">3.1&nbsp;&nbsp;</span>Homolythic and Heterolythic breaking of a bond</a></span></li></ul></li><li><span><a href=\"#Structure-optimization\" data-toc-modified-id=\"Structure-optimization-4\"><span class=\"toc-item-num\">4&nbsp;&nbsp;</span>Structure optimization</a></span><ul class=\"toc-item\"><li><span><a href=\"#Optimization-of-the-molecule-of-water\" data-toc-modified-id=\"Optimization-of-the-molecule-of-water-4.1\"><span class=\"toc-item-num\">4.1&nbsp;&nbsp;</span>Optimization of the molecule of water</a></span></li></ul></li><li><span><a href=\"#Questions\" data-toc-modified-id=\"Questions-5\"><span class=\"toc-item-num\">5&nbsp;&nbsp;</span>Questions</a></span></li></ul></div>"
   ]
  },
  {
   "cell_type": "markdown",
   "id": "02171dee",
   "metadata": {},
   "source": [
    "# Electronic energy of molecules\n",
    "\n",
    "So far we have solved the following quantum systems:\n",
    "\n",
    "* Particle in box: 1 particle's kinetic energy, no potential. The solution was analytical (a function).\n",
    "* Hydrogen atom: 2 particle's kinetic energy, one attractive potential between the two. The solution albeit more complicated was still analytical.\n",
    "* Polyelectronic atoms: many particle's kinetic energy (independent of each other), atttactive potential and an extra electron-electron repulsion. The solution was not analytical and had to be solved numerically with a computer.\n",
    "\n",
    "Now we want to know how to solve molecules or groups of atoms interacting with each other. As usual the hamiltonian is the sum of kinetic and potential energy\n",
    "\n",
    "$$\n",
    "\\hat{H} = \\text{Kinetic Energy} + \\text{Potential Energy}\n",
    "$$\n",
    "\n",
    "For molecules in atomic units:\n",
    "\n",
    "$$\n",
    "\\hat{H} = \\sum_{k=nuclei}-\\frac{1}{2m_k}\\nabla_{k} -\\frac{1}{2}\\sum_{i=elec} \\nabla_i + \\sum_{k=nuclei}\\sum_{i=elec} \\frac{q_{i}q_{k}}{r_{ik}} + \\sum_{i,j=elec} \\frac{q_{i}q_{j}}{r_{ij}} + \\sum_{k,l=nuc}\\frac{q_{k}{q_{l}}}{r_{kl}}\n",
    "$$\n",
    "\n",
    "Translated into English we have:\n",
    "\n",
    "$$\n",
    "\\hat{H} = \\sum\\text{Kinetic of nucleus} + \\sum{\\text{Kinetic of e-}} + \\sum{\\text{attraction of elec-nucl}} + \\sum{\\text{Repulsion elec-elect}} + \\sum{\\text{repulsion between nuclei}}\n",
    "$$\n",
    "\n",
    "## The Born-Oppenheimer approximation and potential energy surface\n",
    "\n",
    "\"Let us define a molecule by a geometry structure determined by the nuclear positions. If the nuclei have fixed positions, the nuclear kinetic term vanishes and the nuclear repulsion term becomes a constant. The Hamiltonian expression of equation has a shortened form that we label as electronic Hamiltonian\"\n",
    "\n",
    "$$\n",
    "\\hat{H}_{elec} = -\\frac{1}{2}\\sum_{i=elec} \\nabla_i + \\sum_{k=nuclei}\\sum_{i=elec} \\frac{q_{i}q_{k}}{r_{ik}} + \\sum_{i,j=elec} \\frac{q_{i}q_{j}}{r_{ij}}\n",
    "$$\n",
    "\n",
    "So we can define the electronic energy $E_{elec}$ of a molecule as the eigenvalues of the electronic Hamiltonian\n",
    "\n",
    "$$\n",
    "\\hat{H}_{elec}\\Psi_{elec} = E_{elec}\\Psi_{elec} \n",
    "$$\n",
    "\n",
    "Without going into much detail it can be shown that the motion of the nuclei is mostly decoupled from the motion of the electrons, so we can imagine that the nuclei are moving on a single electronic state surface, the most common one being the ground electronic state. This surface is called the potential energy surface and the approximation that led us here is called the Born-Oppenheimer approximation.\n",
    "\n",
    "<img src=\"https://upload.wikimedia.org/wikipedia/commons/8/81/Potential_Energy_Surface_and_Corresponding_Reaction_Coordinate_Diagram.png\" width=\"500\" />"
   ]
  },
  {
   "cell_type": "markdown",
   "id": "a8c56a0d",
   "metadata": {},
   "source": [
    "# Single point energy of molecules\n",
    "\n",
    "The calculation below is the \"single point\" energy calculation of H2. \n",
    "The output is saved in the file 'h2_sp.txt'. Open it and try to rationalize the information in it."
   ]
  },
  {
   "cell_type": "code",
   "execution_count": 1,
   "id": "ec7d65b0",
   "metadata": {},
   "outputs": [
    {
     "name": "stdout",
     "output_type": "stream",
     "text": [
      "-1.0790290633881545\n"
     ]
    }
   ],
   "source": [
    "import psi4\n",
    "\n",
    "psi4.core.set_output_file('h2_sp.txt', False)\n",
    "h2o = psi4.geometry(\"\"\"\n",
    "0 1\n",
    "H 0 0 0\n",
    "H 0 0 0.53\n",
    "\"\"\")\n",
    "#closed shell: RHF: restricted hartree fock method\n",
    "psi4.set_options({'reference': 'rhf'})\n",
    "ene=psi4.energy('scf/6-31g*')\n",
    "print(ene)"
   ]
  },
  {
   "cell_type": "markdown",
   "id": "1f1ced51",
   "metadata": {},
   "source": [
    "* Why did we use rhf and not uhf?\n",
    "* The geometry is introduced using cartesian coordinates (xyz). What is the bond distance in this case?\n",
    "\n",
    "Let's calculate the energy of the molecule of water. Notice the alternative way to give the geometry. These are called internal coordinates and they are convenient to introduce bond distances and angles."
   ]
  },
  {
   "cell_type": "code",
   "execution_count": 2,
   "id": "a9816a31",
   "metadata": {},
   "outputs": [
    {
     "name": "stdout",
     "output_type": "stream",
     "text": [
      "-76.0103764973102\n"
     ]
    }
   ],
   "source": [
    "psi4.core.set_output_file('h2o_sp.txt', False)\n",
    "h2o = psi4.geometry(\"\"\"\n",
    "0 1\n",
    "O\n",
    "H 1 0.96\n",
    "H 1 0.96 2 104.5\n",
    "\"\"\")\n",
    "#closed shell: RHF: restricted hartree fock method\n",
    "psi4.set_options({'reference': 'rhf'})\n",
    "ene=psi4.energy('scf/6-31g*')\n",
    "print(ene)"
   ]
  },
  {
   "cell_type": "markdown",
   "id": "1c72f451",
   "metadata": {},
   "source": [
    "## We cannot always foresee the most stable spin\n",
    "\n",
    "If we want to calculate the energy of the molecule of oxygen, by drawing the Lewis structure we would see that all electrons are paired, therefore we would expect that the ground state is a singlet.\n",
    "\n",
    "**Let's compare the energy for the singlet and triplet of N2 and O2**"
   ]
  },
  {
   "cell_type": "code",
   "execution_count": 10,
   "id": "b695dea7",
   "metadata": {},
   "outputs": [
    {
     "name": "stdout",
     "output_type": "stream",
     "text": [
      "-149.53030275294373\n",
      "-149.61536426746954\n"
     ]
    }
   ],
   "source": [
    "psi4.core.clean()\n",
    "psi4.core.set_output_file('o2_1_sp.txt', False)\n",
    "o2 = psi4.geometry(\"\"\"\n",
    "0 1\n",
    "O 0. 0. 0.\n",
    "O 0. 0. 1.2\n",
    "\n",
    "units angstrom\n",
    "\"\"\")\n",
    "#closed shell: RHF: restricted hartree fock method\n",
    "psi4.set_options({'reference': 'rhf'})\n",
    "eneO2Sing=psi4.energy('scf/6-31g*')\n",
    "print(eneO2Sing)\n",
    "\n",
    "psi4.core.clean()\n",
    "psi4.core.set_output_file('o2_3_sp.txt', False)\n",
    "o2 = psi4.geometry(\"\"\"\n",
    "0 3\n",
    "O 0. 0. 0.\n",
    "O 0. 0. 1.2\n",
    "\n",
    "units angstrom\n",
    "\"\"\")\n",
    "#closed shell: RHF: restricted hartree fock method\n",
    "psi4.set_options({'reference': 'uhf'})\n",
    "eneO2Trip=psi4.energy('scf/6-31g*')\n",
    "print(eneO2Trip)\n"
   ]
  },
  {
   "cell_type": "code",
   "execution_count": 5,
   "id": "0d226e09",
   "metadata": {},
   "outputs": [
    {
     "name": "stdout",
     "output_type": "stream",
     "text": [
      "-108.94204052593204\n",
      "-108.65651432048483\n"
     ]
    }
   ],
   "source": [
    "psi4.core.clean()\n",
    "psi4.core.set_output_file('n2_1_sp.txt', False)\n",
    "n2 = psi4.geometry(\"\"\"\n",
    "0 1\n",
    "N 0. 0. 0.\n",
    "N 0. 0. 1.1\n",
    "\n",
    "units angstrom\n",
    "\"\"\")\n",
    "#closed shell: RHF: restricted hartree fock method\n",
    "psi4.set_options({'reference': 'rhf'})\n",
    "eneN2Sing=psi4.energy('scf/6-31g*')\n",
    "print(eneN2Sing)\n",
    "\n",
    "psi4.core.clean()\n",
    "psi4.core.set_output_file('n2_3_sp.txt', False)\n",
    "n2 = psi4.geometry(\"\"\"\n",
    "0 3\n",
    "N 0. 0. 0.\n",
    "N 0. 0. 1.1\n",
    "\n",
    "units angstrom\n",
    "\"\"\")\n",
    "#closed shell: RHF: restricted hartree fock method\n",
    "psi4.set_options({'reference': 'uhf'})\n",
    "eneN2Trip=psi4.energy('scf/6-31g*')\n",
    "print(eneN2Trip)"
   ]
  },
  {
   "cell_type": "markdown",
   "id": "a884bb6c",
   "metadata": {},
   "source": [
    "* What spin state is most stable for N2 and O2? Compare it with their Lewis structures and assess if the Lewis structures can be used to predict the electronic stability.\n",
    "* Look at the orbital energies of the output to explain this phenomenon. In the case of O2, the molecules has 16 electrons. Check the \"Orbital Energies\" and fill them up with 16 electrons."
   ]
  },
  {
   "cell_type": "markdown",
   "id": "6b6d38f7",
   "metadata": {},
   "source": [
    "## Population analysis\n",
    "\n",
    "Partial charges are not really a quantum property because the electrons are not constrained to one atom. Rather, the square of the wavefunction extents over all space. That being said, there are methods to decided on what atom the electron is most probable to be found."
   ]
  },
  {
   "cell_type": "code",
   "execution_count": 19,
   "id": "fcc79d73",
   "metadata": {},
   "outputs": [
    {
     "name": "stdout",
     "output_type": "stream",
     "text": [
      "-112.61210627111484\n"
     ]
    }
   ],
   "source": [
    "psi4.core.clean()\n",
    "psi4.core.set_output_file('co_sp.txt', False)\n",
    "o2 = psi4.geometry(\"\"\"\n",
    "0 1\n",
    "C 0. 0. 0.\n",
    "O 0. 0. 1.4\n",
    "\n",
    "units angstrom\n",
    "\"\"\")\n",
    "#closed shell: RHF: restricted hartree fock method\n",
    "psi4.set_options({'reference': 'rhf'})\n",
    "eneCOSing,wfn=psi4.energy('scf/6-31g*',return_wfn=True)\n",
    "#oeprop is the one-electron properties https://psicode.org/psi4manual/master/oeprop.html\n",
    "psi4.oeprop(wfn, 'DIPOLE', 'MULLIKEN_CHARGES', title='UMR: CO SCF')\n",
    "print(eneCOSing)"
   ]
  },
  {
   "cell_type": "markdown",
   "id": "8f494852",
   "metadata": {},
   "source": [
    "* Open the output file co_sp.txt. At the bottom of the file we added the dipole and Mulliken charges after the title \"UMR: CO SCF\". What is the charge on C and O in the molecule of CO? Does it match with its Lewis structure?\n",
    "* Charges depend a lot on the size of the basis set and the level of theory. You could try to redo the above calculation with b3lyp/6-311G** and see if the charges are the same.\n",
    "\n",
    "Notice though that we do not know whether or not the geometry we introduced so far is the actual bond distance. At different geometries we may obtain different results."
   ]
  },
  {
   "cell_type": "markdown",
   "id": "b71bac46",
   "metadata": {},
   "source": [
    "# Scanning a distance to find bond distance\n",
    "\n",
    "We want to produce a binding energy curve for the $H_2$ molecule using different levels of theory. The binding energy is given by:\n",
    "\n",
    " $$E_{bind} = E(H_2) - 2E(H)  \\tag{1} $$\n",
    "\n",
    "Or if we build the binding curve, the binding energy would be the energy difference between the bottom of the well and the energy at which the H-H bond is infinitely apart."
   ]
  },
  {
   "cell_type": "code",
   "execution_count": 18,
   "id": "fc47016a",
   "metadata": {},
   "outputs": [
    {
     "name": "stdout",
     "output_type": "stream",
     "text": [
      "0.3\n",
      "0.4\n",
      "0.5\n",
      "0.6\n",
      "0.7\n",
      "0.8\n",
      "0.9\n",
      "1.0\n",
      "1.1\n",
      "1.2\n",
      "1.3\n",
      "1.4\n",
      "1.5\n",
      "1.6\n",
      "1.7\n",
      "1.8\n",
      "1.9\n",
      "2.0\n"
     ]
    }
   ],
   "source": [
    "psi4.core.clean()\n",
    "h2_geo = \"\"\"\n",
    "H 0.0 0.0 0.0 \n",
    "H 0.0 0.0 mydist\n",
    "\n",
    "units angstrom\n",
    "symmetry c1\n",
    "\"\"\"\n",
    "psi4.set_options({'reference' : 'UHF', \n",
    "                  'guess_mix' : True, \n",
    "                  'guess' : \"gwh\"})\n",
    "\n",
    "distances = [0.3, 0.4, 0.5, 0.6, 0.7, 0.8, 0.9, 1. , 1.1, 1.2, 1.3, 1.4, 1.5, 1.6, 1.7, 1.8, 1.9, 2. ]\n",
    "#the distance array can be done with np.linspace(0.3,2.0,18)\n",
    "listEne = []\n",
    "for r in distances:\n",
    "    print(r)\n",
    "    mol = psi4.geometry( h2_geo.replace(\"mydist\",str(r)) )\n",
    "    psi4.core.set_output_file('h2_'+str(r)+'.txt', False)\n",
    "    energy = psi4.energy(\"scf/6-31G**\", molecule=mol)\n",
    "    listEne.append(energy*psi4.constants.hartree2ev)\n"
   ]
  },
  {
   "cell_type": "code",
   "execution_count": 22,
   "id": "be5a0b41",
   "metadata": {},
   "outputs": [
    {
     "data": {
      "text/plain": [
       "Text(0, 0.5, 'E(eV)')"
      ]
     },
     "execution_count": 22,
     "metadata": {},
     "output_type": "execute_result"
    },
    {
     "data": {
      "image/png": "[encoded data removed]",
      "text/plain": [
       "<Figure size 432x288 with 1 Axes>"
      ]
     },
     "metadata": {
      "needs_background": "light"
     },
     "output_type": "display_data"
    }
   ],
   "source": [
    "import matplotlib.pyplot as plt\n",
    "import numpy as np\n",
    "\n",
    "fig, ax = plt.subplots()\n",
    "#the x axis is the atomic number\n",
    "\n",
    "ax.plot(distances,listEne,'.r-')\n",
    "ax.set_xlabel(\"dist\")\n",
    "ax.set_ylabel(\"E(eV)\")"
   ]
  },
  {
   "cell_type": "markdown",
   "id": "7c68214f",
   "metadata": {},
   "source": [
    "* Your turn: Build the bonding curve for H2(+) and H2(-).\n",
    "* Plot these curves."
   ]
  },
  {
   "cell_type": "code",
   "execution_count": 20,
   "id": "8d225d08",
   "metadata": {},
   "outputs": [
    {
     "name": "stdout",
     "output_type": "stream",
     "text": [
      "0.3\n",
      "0.4\n",
      "0.5\n",
      "0.6\n",
      "0.7\n",
      "0.8\n",
      "0.9\n",
      "1.0\n",
      "1.1\n",
      "1.2\n",
      "1.3\n",
      "1.4\n",
      "1.5\n",
      "1.6\n",
      "1.7\n",
      "1.8\n",
      "1.9\n",
      "2.0\n"
     ]
    }
   ],
   "source": []
  },
  {
   "cell_type": "markdown",
   "id": "598d2782",
   "metadata": {},
   "source": [
    "## Homolythic and Heterolythic breaking of a bond\n",
    "\n",
    "One can break a bond homolitically, that is, so that each atom keeps one electron so that at the end you have two unpaired electrons (triplet) and both atoms remain neutral. Or you can break it heterotically, so that one atom keeps both electrons. In gas phase (without solvent) the homolitical bond breaking takes less energy.\n",
    "\n",
    "The plot shown above was an homolitical breaking because we allowed the electrons to be separated. If we run the same H2 curve just using RHF we will obtain the heterolitical breaking."
   ]
  },
  {
   "cell_type": "code",
   "execution_count": null,
   "id": "a7b5d52e",
   "metadata": {},
   "outputs": [],
   "source": [
    "psi4.core.clean()\n",
    "h2_geo = \"\"\"\n",
    "H 0.0 0.0 0.0 \n",
    "H 0.0 0.0 mydist\n",
    "\n",
    "units angstrom\n",
    "symmetry c1\n",
    "\"\"\"\n",
    "psi4.set_options({'reference' : 'RHF', \n",
    "                  'guess_mix' : True, \n",
    "                  'guess' : \"gwh\"})\n",
    "\n",
    "distances = [0.3, 0.4, 0.5, 0.6, 0.7, 0.8, 0.9, 1. , 1.1, 1.2, 1.3, 1.4, 1.5, 1.6, 1.7, 1.8, 1.9, 2. ]\n",
    "#the distance array can be done with np.linspace(0.3,2.0,18)\n",
    "listEneRHF = []\n",
    "for r in distances:\n",
    "    print(r)\n",
    "    mol = psi4.geometry( h2_geo.replace(\"mydist\",str(r)) )\n",
    "    psi4.core.set_output_file('h2_'+str(r)+'.txt', False)\n",
    "    energy = psi4.energy(\"scf/6-31G**\", molecule=mol)\n",
    "    listEneRHF.append(energy*psi4.constants.hartree2ev)"
   ]
  },
  {
   "cell_type": "code",
   "execution_count": 26,
   "id": "fc7e4220",
   "metadata": {},
   "outputs": [
    {
     "data": {
      "text/plain": [
       "<matplotlib.legend.Legend at 0x7fc5f7c7b150>"
      ]
     },
     "execution_count": 26,
     "metadata": {},
     "output_type": "execute_result"
    },
    {
     "data": {
      "image/png": "[encoded data removed]",
      "text/plain": [
       "<Figure size 432x288 with 1 Axes>"
      ]
     },
     "metadata": {
      "needs_background": "light"
     },
     "output_type": "display_data"
    }
   ],
   "source": [
    "fig, ax = plt.subplots()\n",
    "#the x axis is the atomic number\n",
    "\n",
    "ax.plot(distances,listEne,'.r-',label=\"UHF\")\n",
    "ax.plot(distances,listEneRHF,'.b-',label=\"RHF\")\n",
    "ax.set_xlabel(\"dist\")\n",
    "ax.set_ylabel(\"E(eV)\")\n",
    "ax.legend();"
   ]
  },
  {
   "cell_type": "markdown",
   "id": "b6f104f7",
   "metadata": {},
   "source": [
    "# Structure optimization\n",
    "\n",
    "A faster way to find the minimum of energy in the potential energy surface is by using an optimization algorithm. These algorithms will use the first derivative of the energy (the gradient) to move towards the minimum. It is an iterative process and it requires a threshold of gradient and energy for the computer to know when the minimum is found."
   ]
  },
  {
   "cell_type": "code",
   "execution_count": 15,
   "id": "e938a666",
   "metadata": {},
   "outputs": [
    {
     "name": "stdout",
     "output_type": "stream",
     "text": [
      "Optimizer: Optimization complete!\n"
     ]
    },
    {
     "data": {
      "text/plain": [
       "-1.1313348258320226"
      ]
     },
     "execution_count": 15,
     "metadata": {},
     "output_type": "execute_result"
    }
   ],
   "source": [
    "psi4.core.clean()\n",
    "h2_geo = psi4.geometry(\"\"\"\n",
    "H 0.0 0.0 0.0 \n",
    "H 0.0 0.0 0.6\n",
    "\n",
    "units angstrom\n",
    "\"\"\")\n",
    "\n",
    "psi4.core.set_output_file('h2_opt.txt', False)\n",
    "psi4.set_options({'reference': 'rhf'})\n",
    "psi4.optimize('scf/6-31G**', molecule=h2_geo)"
   ]
  },
  {
   "cell_type": "markdown",
   "id": "b6788a1a",
   "metadata": {},
   "source": [
    "Your turn\n",
    "* Open the h2_opt.txt file and see the bond distance at which the algorithm has optimized the structure. Compare it with out previous scan.\n",
    "* What is the criteria for gradient and energy to decide when convergence is achieved?\n",
    "* Look at the code, what is the first loop doing? And the second?"
   ]
  },
  {
   "cell_type": "code",
   "execution_count": 23,
   "id": "bc833ea5",
   "metadata": {},
   "outputs": [
    {
     "name": "stdout",
     "output_type": "stream",
     "text": [
      "    Total Energy =                         -1.1139361721990531\n",
      "\n",
      "    Total Energy =                         -1.1312540898766401\n",
      "\n",
      "    Total Energy =                         -1.1313243629427232\n",
      "\n",
      "    Total Energy =                         -1.1313334462445632\n",
      "\n",
      "    Total Energy =                         -1.1313348258320226\n",
      "\n",
      "**Optimization step\n",
      "   Step     Total Energy     Delta E     MAX Force     RMS Force      MAX Disp      RMS Disp    ~\n",
      "\n",
      "  --------------------------------------------------------------------------------------------- ~\n",
      "\n",
      "    Convergence Criteria    1.00e-06 *    3.00e-04 *             o    1.20e-03 *             o  ~\n",
      "\n",
      "  --------------------------------------------------------------------------------------------- ~\n",
      "\n",
      "      1      -1.11393617   -1.11e+00      1.62e-01      1.62e-01 o    2.31e-01      2.31e-01 o  ~\n",
      "\n",
      "**Optimization step\n",
      "   Step     Total Energy     Delta E     MAX Force     RMS Force      MAX Disp      RMS Disp   \n",
      "\n",
      "  ---------------------------------------------------------------------------------------------\n",
      "\n",
      "    Convergence Criteria    1.00e-06 *    3.00e-04 *             o    1.20e-03 *             o\n",
      "\n",
      "  ---------------------------------------------------------------------------------------------\n",
      "\n",
      "      2      -1.13125409   -1.73e-02      8.31e-03      8.31e-03 o    1.25e-02      1.25e-02 o  ~\n",
      "\n",
      "**Optimization step\n",
      "   Step     Total Energy     Delta E     MAX Force     RMS Force      MAX Disp      RMS Disp   \n",
      "\n",
      "  ---------------------------------------------------------------------------------------------\n",
      "\n",
      "    Convergence Criteria    1.00e-06 *    3.00e-04 *             o    1.20e-03 *             o\n",
      "\n",
      "  ---------------------------------------------------------------------------------------------\n",
      "\n",
      "      3      -1.13132436   -7.03e-05      2.95e-03      2.95e-03 o    4.53e-03      4.53e-03 o  ~\n",
      "\n",
      "**Optimization step\n",
      "   Step     Total Energy     Delta E     MAX Force     RMS Force      MAX Disp      RMS Disp   \n",
      "\n",
      "  ---------------------------------------------------------------------------------------------\n",
      "\n",
      "    Convergence Criteria    1.00e-06 *    3.00e-04 *             o    1.20e-03 *             o\n",
      "\n",
      "  ---------------------------------------------------------------------------------------------\n",
      "\n",
      "      4      -1.13133345   -9.08e-06      1.07e-03      1.07e-03 o    2.51e-03      2.51e-03 o  ~\n",
      "\n",
      "**Optimization step\n",
      "   Step     Total Energy     Delta E     MAX Force     RMS Force      MAX Disp      RMS Disp   \n",
      "\n",
      "  ---------------------------------------------------------------------------------------------\n",
      "\n",
      "    Convergence Criteria    1.00e-06 *    3.00e-04 *             o    1.20e-03 *             o\n",
      "\n",
      "  ---------------------------------------------------------------------------------------------\n",
      "\n",
      "      5      -1.13133483   -1.38e-06      3.45e-05 *    3.45e-05 o    8.33e-05 *    8.33e-05 o  ~\n",
      "\n"
     ]
    }
   ],
   "source": [
    "myOutput = open('h2_opt.txt','r').readlines()\n",
    "for line in myOutput:\n",
    "    if 'Total Energy =' in line:\n",
    "        print(line)\n",
    "for i in range(len(myOutput)):\n",
    "    if 'Step     Total Energy' in myOutput[i]:\n",
    "        print(\"**Optimization step\")\n",
    "        print(myOutput[i])\n",
    "        print(myOutput[i+1])\n",
    "        print(myOutput[i+2])\n",
    "        print(myOutput[i+3])\n",
    "        print(myOutput[i+4])\n",
    "        i = i + 4\n",
    "    i = i + 1\n",
    "        "
   ]
  },
  {
   "cell_type": "markdown",
   "id": "928b39eb",
   "metadata": {},
   "source": [
    "## Optimization of the molecule of water"
   ]
  },
  {
   "cell_type": "code",
   "execution_count": 3,
   "id": "648f6268",
   "metadata": {},
   "outputs": [
    {
     "name": "stdout",
     "output_type": "stream",
     "text": [
      "Optimizer: Optimization complete!\n"
     ]
    },
    {
     "data": {
      "text/plain": [
       "-76.01072051843589"
      ]
     },
     "execution_count": 3,
     "metadata": {},
     "output_type": "execute_result"
    }
   ],
   "source": [
    "psi4.core.clean()\n",
    "psi4.core.set_output_file('h2o_opt.txt', False)\n",
    "h2o = psi4.geometry(\"\"\"\n",
    "0 1\n",
    "O\n",
    "H 1 0.96\n",
    "H 1 0.96 2 104.5\n",
    "\"\"\")\n",
    "\n",
    "psi4.set_options({'reference': 'rhf'})\n",
    "psi4.optimize('scf/6-31g*',molecule=h2o)\n"
   ]
  },
  {
   "cell_type": "markdown",
   "id": "9d616300",
   "metadata": {},
   "source": [
    "* See below how we can use psi4 to look at atomic distance"
   ]
  },
  {
   "cell_type": "code",
   "execution_count": 14,
   "id": "e7eb21e3",
   "metadata": {},
   "outputs": [
    {
     "name": "stdout",
     "output_type": "stream",
     "text": [
      "Distances between atoms in Bohr\n",
      "[[0.         1.79021278 1.79021278]\n",
      " [1.79021278 0.         2.85136018]\n",
      " [1.79021278 2.85136018 0.        ]]\n",
      "[[0.         0.9473398  0.9473398 ]\n",
      " [0.9473398  0.         1.50887483]\n",
      " [0.9473398  1.50887483 0.        ]]\n"
     ]
    }
   ],
   "source": [
    "#we can get the distances from the optimized structure directly\n",
    "myDistMat = psi4.core.Molecule.distance_matrix(h2o)\n",
    "print(myDistMat.name)\n",
    "print(myDistMat.np)\n",
    "\n",
    "print(myDistMat.np*psi4.constants.bohr2angstroms)\n"
   ]
  },
  {
   "cell_type": "markdown",
   "id": "e108e4cf",
   "metadata": {},
   "source": [
    "# Questions\n",
    "\n",
    "* What is more stable for the molecule of F2, the triplet or the singlet?\n",
    "* What is more stable spin state for the molecule of NO? What is the Mulliken charge on these two atoms?\n",
    "* Calculate the bonding curve for H2, H2(+), H2(-) and plot them in the same graph. \n",
    "* Optimize the structure of HF and H2O and report the bond distances. (you will have to look at the output file or use psi4.core.Molecule.distance_matrix)\n",
    "* Optimize the structure of OH(-) and single point energy for F(-). Use these results to predict what is a better acid, H2O or HF?\n",
    "* Extra: you may also include in your acid comparison other molecules such as NH3, H2S, HCl, CH4"
   ]
  },
  {
   "cell_type": "code",
   "execution_count": null,
   "id": "84ea3c82",
   "metadata": {},
   "outputs": [],
   "source": []
  }
 ],
 "metadata": {
  "kernelspec": {
   "display_name": "Python 3 (ipykernel)",
   "language": "python",
   "name": "python3"
  },
  "language_info": {
   "codemirror_mode": {
    "name": "ipython",
    "version": 3
   },
   "file_extension": ".py",
   "mimetype": "text/x-python",
   "name": "python",
   "nbconvert_exporter": "python",
   "pygments_lexer": "ipython3",
   "version": "3.7.12"
  },
  "toc": {
   "base_numbering": 1,
   "nav_menu": {},
   "number_sections": true,
   "sideBar": true,
   "skip_h1_title": false,
   "title_cell": "Table of Contents",
   "title_sidebar": "Contents",
   "toc_cell": true,
   "toc_position": {},
   "toc_section_display": true,
   "toc_window_display": false
  },
  "varInspector": {
   "cols": {
    "lenName": 16,
    "lenType": 16,
    "lenVar": 40
   },
   "kernels_config": {
    "python": {
     "delete_cmd_postfix": "",
     "delete_cmd_prefix": "del ",
     "library": "var_list.py",
     "varRefreshCmd": "print(var_dic_list())"
    },
    "r": {
     "delete_cmd_postfix": ") ",
     "delete_cmd_prefix": "rm(",
     "library": "var_list.r",
     "varRefreshCmd": "cat(var_dic_list()) "
    }
   },
   "types_to_exclude": [
    "module",
    "function",
    "builtin_function_or_method",
    "instance",
    "_Feature"
   ],
   "window_display": false
  }
 },
 "nbformat": 4,
 "nbformat_minor": 5
}
