{
 "cells": [
  {
   "cell_type": "markdown",
   "id": "1f29f83a",
   "metadata": {
    "toc": true
   },
   "source": [
    "<h1>Table of Contents<span class=\"tocSkip\"></span></h1>\n",
    "<div class=\"toc\"><ul class=\"toc-item\"><li><span><a href=\"#Build-your-conda-environment\" data-toc-modified-id=\"Build-your-conda-environment-1\"><span class=\"toc-item-num\">1&nbsp;&nbsp;</span>Build your conda environment</a></span></li><li><span><a href=\"#Types-of-variables-1:-integers,-floats,-and-strings\" data-toc-modified-id=\"Types-of-variables-1:-integers,-floats,-and-strings-2\"><span class=\"toc-item-num\">2&nbsp;&nbsp;</span>Types of variables 1: integers, floats, and strings</a></span><ul class=\"toc-item\"><li><span><a href=\"#Integers,-floats,-and-strings\" data-toc-modified-id=\"Integers,-floats,-and-strings-2.1\"><span class=\"toc-item-num\">2.1&nbsp;&nbsp;</span>Integers, floats, and strings</a></span></li><li><span><a href=\"#Operations-with-integers,-floats,-and-strings\" data-toc-modified-id=\"Operations-with-integers,-floats,-and-strings-2.2\"><span class=\"toc-item-num\">2.2&nbsp;&nbsp;</span>Operations with integers, floats, and strings</a></span></li><li><span><a href=\"#Using-modules-or-libraries\" data-toc-modified-id=\"Using-modules-or-libraries-2.3\"><span class=\"toc-item-num\">2.3&nbsp;&nbsp;</span>Using modules or libraries</a></span></li></ul></li><li><span><a href=\"#Types-of-variables-2:-lists-and-dictionaries\" data-toc-modified-id=\"Types-of-variables-2:-lists-and-dictionaries-3\"><span class=\"toc-item-num\">3&nbsp;&nbsp;</span>Types of variables 2: lists and dictionaries</a></span></li><li><span><a href=\"#Main-structures:-Loops\" data-toc-modified-id=\"Main-structures:-Loops-4\"><span class=\"toc-item-num\">4&nbsp;&nbsp;</span>Main structures: Loops</a></span></li><li><span><a href=\"#Main-structures:-Conditionals\" data-toc-modified-id=\"Main-structures:-Conditionals-5\"><span class=\"toc-item-num\">5&nbsp;&nbsp;</span>Main structures: Conditionals</a></span><ul class=\"toc-item\"><li><span><a href=\"#Combining-loops-and-conditionals\" data-toc-modified-id=\"Combining-loops-and-conditionals-5.1\"><span class=\"toc-item-num\">5.1&nbsp;&nbsp;</span>Combining loops and conditionals</a></span></li></ul></li><li><span><a href=\"#Plotting\" data-toc-modified-id=\"Plotting-6\"><span class=\"toc-item-num\">6&nbsp;&nbsp;</span>Plotting</a></span><ul class=\"toc-item\"><li><span><a href=\"#More-plotting-options-with-matplotlib\" data-toc-modified-id=\"More-plotting-options-with-matplotlib-6.1\"><span class=\"toc-item-num\">6.1&nbsp;&nbsp;</span>More plotting options with matplotlib</a></span></li></ul></li></ul></div>"
   ]
  },
  {
   "cell_type": "markdown",
   "id": "48e18873",
   "metadata": {},
   "source": [
    "# Build your conda environment\n",
    "\n",
    "Before you run any code, you should install all the necessary packages in a conda environment\n",
    "\n",
    "* First step: Install miniconda https://docs.conda.io/en/latest/miniconda.html\n",
    "* Open a conda terminal and create the conda environment that we are going to call p4env.\n",
    "        conda create --name p4env\n",
    "        conda activate p4env\n",
    "\n",
    "\n",
    "Necessary packages: \n",
    "\n",
    "Use the terminal application for the commands below. Everytime you open the terminal the first step is to activate your environment p4env where you are installing all your software by typing: \"conda activate p4env\"\n",
    "\n",
    "    For Mac\n",
    "        conda install psi4 psi4-rt python=3.7 -c psi4\n",
    "    For Windows check this link https://psicode.org/posts/psi4education_setup/ \n",
    "    \n",
    "    Then\n",
    "        conda install -c conda-forge matplotlib\n",
    "        conda install -c conda-forge notebook\n",
    "        conda install scipy\n",
    "\n",
    "Additional packages\n",
    "\n",
    "    conda install sympy\n",
    "\n",
    "    conda install -c conda-forge ipywidgets\n",
    "    conda install -c plotly plotly\n",
    "\n",
    "    conda install pandas\n",
    "    conda install -c conda-forge py3dmol\n",
    "\n",
    "\n",
    "Once you are done with the above, still in the terminal, type jupyter-notebook (in Mac) or jupyter notebook (in Windows). A new tab in your browser should appear. Learn to navigate through files using jupyter notebook."
   ]
  },
  {
   "cell_type": "markdown",
   "id": "edbff4e5",
   "metadata": {},
   "source": [
    "# Types of variables 1: integers, floats, and strings"
   ]
  },
  {
   "cell_type": "markdown",
   "id": "098d2ac0",
   "metadata": {},
   "source": [
    "## Integers, floats, and strings"
   ]
  },
  {
   "cell_type": "code",
   "execution_count": 6,
   "id": "b906284b",
   "metadata": {},
   "outputs": [],
   "source": [
    "#the variable \"a\" is an integer\n",
    "a=23\n",
    "#the variable \"b\" is a float\n",
    "b=23.0\n",
    "#the variable \"c\" is a string\n",
    "c=\"23\""
   ]
  },
  {
   "cell_type": "markdown",
   "id": "af27e9e6",
   "metadata": {},
   "source": [
    "## Operations with integers, floats, and strings"
   ]
  },
  {
   "cell_type": "code",
   "execution_count": 5,
   "id": "6311ef30",
   "metadata": {},
   "outputs": [
    {
     "name": "stdout",
     "output_type": "stream",
     "text": [
      "46.0\n",
      "23.0\n",
      "23\n"
     ]
    }
   ],
   "source": [
    "#the operation between integers and floats give floats\n",
    "print(a+b)\n",
    "#one can convert integers into floats and viceversa\n",
    "print( float(a) )\n",
    "print( int(b))"
   ]
  },
  {
   "cell_type": "code",
   "execution_count": null,
   "id": "936c627c",
   "metadata": {},
   "outputs": [],
   "source": [
    "#typical operations are +, -, *, /\n",
    "print(a*b)\n",
    "# for more sophisticated operations we will use the \"math\" module or \"numpy\""
   ]
  },
  {
   "cell_type": "code",
   "execution_count": 7,
   "id": "365351be",
   "metadata": {},
   "outputs": [
    {
     "ename": "TypeError",
     "evalue": "can only concatenate str (not \"int\") to str",
     "output_type": "error",
     "traceback": [
      "\u001b[0;31m---------------------------------------------------------------------------\u001b[0m",
      "\u001b[0;31mTypeError\u001b[0m                                 Traceback (most recent call last)",
      "Input \u001b[0;32mIn [7]\u001b[0m, in \u001b[0;36m<cell line: 2>\u001b[0;34m()\u001b[0m\n\u001b[1;32m      1\u001b[0m \u001b[38;5;66;03m#strings and numbers (int or floats)\u001b[39;00m\n\u001b[0;32m----> 2\u001b[0m \u001b[38;5;28mprint\u001b[39m(\u001b[43mc\u001b[49m\u001b[38;5;241;43m+\u001b[39;49m\u001b[43ma\u001b[49m)\n",
      "\u001b[0;31mTypeError\u001b[0m: can only concatenate str (not \"int\") to str"
     ]
    }
   ],
   "source": [
    "#strings and numbers (int or floats)\n",
    "print(c+a)"
   ]
  },
  {
   "cell_type": "code",
   "execution_count": 8,
   "id": "70c83deb",
   "metadata": {},
   "outputs": [
    {
     "name": "stdout",
     "output_type": "stream",
     "text": [
      "46.0\n"
     ]
    }
   ],
   "source": [
    "#but if a string has numbers it can be converted into a number\n",
    "print(float(c)+a)"
   ]
  },
  {
   "cell_type": "code",
   "execution_count": 18,
   "id": "05dbe29d",
   "metadata": {},
   "outputs": [
    {
     "name": "stdout",
     "output_type": "stream",
     "text": [
      " **   variable\n",
      " **  this is a\n",
      "this is a variable\n",
      "this is a string variable\n"
     ]
    }
   ],
   "source": [
    "#Two strings can be joined or concatenated with +\n",
    "e='this is a'\n",
    "f=' variable'\n",
    "print(' ** ', f)\n",
    "print(' ** ',e)\n",
    "print(e+f)\n",
    "print(e+' string'+f)"
   ]
  },
  {
   "cell_type": "markdown",
   "id": "4394c8fe",
   "metadata": {},
   "source": [
    "## Using modules or libraries"
   ]
  },
  {
   "cell_type": "code",
   "execution_count": 24,
   "id": "f2cdb1c2",
   "metadata": {},
   "outputs": [
    {
     "name": "stdout",
     "output_type": "stream",
     "text": [
      "-0.8462204041751706\n",
      "9744803446.248903\n",
      "3.141592653589793\n"
     ]
    }
   ],
   "source": [
    "import math\n",
    "\n",
    "print(math.sin(a))\n",
    "print(math.exp(a))\n",
    "print(math.pi / math.exp(0))"
   ]
  },
  {
   "cell_type": "markdown",
   "id": "0dd75bcf",
   "metadata": {},
   "source": [
    "# Types of variables 2: lists and dictionaries"
   ]
  },
  {
   "cell_type": "code",
   "execution_count": 27,
   "id": "93742a10",
   "metadata": {},
   "outputs": [
    {
     "name": "stdout",
     "output_type": "stream",
     "text": [
      "-23 7\n",
      "['c', 'd']\n"
     ]
    }
   ],
   "source": [
    "#a list is indicated with the square bracket. A list can contain integers, floats, strings or more lists.\n",
    "\n",
    "#a list of integers\n",
    "g = [-23,6,-34,7]\n",
    "\n",
    "#access the elements of the list with brackets starting to count at zero\n",
    "print(g[0],g[3])\n",
    "\n",
    "#you can also print a range using ':'\n",
    "h=['a','b','c','d','e']\n",
    "print(h[2:4])"
   ]
  },
  {
   "cell_type": "code",
   "execution_count": 32,
   "id": "27e6fb7d",
   "metadata": {},
   "outputs": [
    {
     "name": "stdout",
     "output_type": "stream",
     "text": [
      "['This', 'is', 'a', 'long', 'string', 'made', 'out', 'of', 'words', 'that', 'it', 'is', 'about', 'to', 'be', 'split']\n",
      "This split be\n"
     ]
    },
    {
     "data": {
      "text/plain": [
       "16"
      ]
     },
     "execution_count": 32,
     "metadata": {},
     "output_type": "execute_result"
    }
   ],
   "source": [
    "#create a slit with the function 'split'\n",
    "i='This is a long string made out of words that it is about to be split'.split()\n",
    "print(i)\n",
    "#print first and last\n",
    "print(i[0],i[-1],i[-2])\n",
    "\n",
    "#using len you can see how many elements the list has\n",
    "print( len(i))"
   ]
  },
  {
   "cell_type": "code",
   "execution_count": 35,
   "id": "7fa57f0d",
   "metadata": {},
   "outputs": [
    {
     "name": "stdout",
     "output_type": "stream",
     "text": [
      "this is number one\n",
      "this is a string\n"
     ]
    }
   ],
   "source": [
    "#a dictionary uses curled brackets and instead of \n",
    "\n",
    "j={1:'this is number one',\n",
    "  'a':'this is the letter a',\n",
    "  '2':'this is a string'}\n",
    "\n",
    "print(j[1])\n",
    "print(j['2'])"
   ]
  },
  {
   "cell_type": "markdown",
   "id": "fdc81cc8",
   "metadata": {},
   "source": [
    "# Main structures: Loops"
   ]
  },
  {
   "cell_type": "code",
   "execution_count": 38,
   "id": "7e8c4498",
   "metadata": {},
   "outputs": [
    {
     "name": "stdout",
     "output_type": "stream",
     "text": [
      "4\n",
      "6\n",
      "8\n",
      "10\n",
      "12\n"
     ]
    }
   ],
   "source": [
    "#looping through a list\n",
    "\n",
    "myLoop = [2,3,4,5,6]\n",
    "for thisThing in myLoop:\n",
    "    print(thisThing*2)"
   ]
  },
  {
   "cell_type": "code",
   "execution_count": 44,
   "id": "91967c5a",
   "metadata": {},
   "outputs": [
    {
     "name": "stdout",
     "output_type": "stream",
     "text": [
      "0\n",
      "1\n",
      "2\n",
      "3\n",
      "4\n",
      "5\n",
      "6\n",
      "7\n",
      "8\n",
      "9\n"
     ]
    }
   ],
   "source": [
    "#using range for a range of numbers\n",
    "for this in range(10):\n",
    "    print(this)"
   ]
  },
  {
   "cell_type": "code",
   "execution_count": 43,
   "id": "176d5839",
   "metadata": {},
   "outputs": [
    {
     "name": "stdout",
     "output_type": "stream",
     "text": [
      "a\n",
      "b\n",
      "c\n",
      "d\n",
      "e\n",
      "f\n",
      "g\n",
      "h\n",
      "i\n",
      "j\n",
      "k\n",
      "l\n",
      "This is element c\n",
      "This is element d\n",
      "This is element e\n"
     ]
    }
   ],
   "source": [
    "#Looping through a string\n",
    "thisString = 'abcdefghijkl'\n",
    "for z in thisString:\n",
    "    print(z)\n",
    "for z in thisString[2:5]:\n",
    "    print(\"This is element\",z)"
   ]
  },
  {
   "cell_type": "markdown",
   "id": "cbe8fed5",
   "metadata": {},
   "source": [
    "# Main structures: Conditionals"
   ]
  },
  {
   "cell_type": "code",
   "execution_count": 45,
   "id": "9b4fef09",
   "metadata": {},
   "outputs": [
    {
     "name": "stdout",
     "output_type": "stream",
     "text": [
      "4 is smaller than 10\n",
      "40 is larger than 10\n"
     ]
    }
   ],
   "source": [
    "a=4\n",
    "if a < 10:\n",
    "    print(a,\"is smaller than 10\")\n",
    "else:\n",
    "    print(a,\"is larger than 10\")\n",
    "a=40\n",
    "if a < 10:\n",
    "    print(a,\"is smaller than 10\")\n",
    "else:\n",
    "    print(a,\"is larger than 10\")"
   ]
  },
  {
   "cell_type": "markdown",
   "id": "1da99fde",
   "metadata": {},
   "source": [
    "## Combining loops and conditionals"
   ]
  },
  {
   "cell_type": "code",
   "execution_count": 46,
   "id": "b2783fb1",
   "metadata": {},
   "outputs": [
    {
     "name": "stdout",
     "output_type": "stream",
     "text": [
      "This word contains the letter r: Four\n",
      "This word contains the letter r: score\n",
      "This word contains the letter r: years\n",
      "This word contains the letter r: our\n",
      "This word contains the letter r: fathers\n",
      "This word contains the letter r: brought\n",
      "This word contains the letter r: forth\n",
      "This word contains the letter r: Liberty,\n",
      "This word contains the letter r: proposition\n",
      "This word contains the letter r: are\n",
      "This word contains the letter r: created\n"
     ]
    }
   ],
   "source": [
    "gettys='Four score and seven years ago our fathers brought forth on this continent, a new nation, conceived in Liberty, and dedicated to the proposition that all men are created equal'\n",
    "\n",
    "for word in gettys.split():\n",
    "    if 'r' in word:\n",
    "        print('This word contains the letter r:',word)"
   ]
  },
  {
   "cell_type": "markdown",
   "id": "a8abc962",
   "metadata": {},
   "source": [
    "# Plotting"
   ]
  },
  {
   "cell_type": "code",
   "execution_count": 49,
   "id": "b8075ead",
   "metadata": {},
   "outputs": [
    {
     "data": {
      "text/plain": [
       "[<matplotlib.lines.Line2D at 0x112fef0d0>]"
      ]
     },
     "execution_count": 49,
     "metadata": {},
     "output_type": "execute_result"
    },
    {
     "data": {
      "image/png": "[encoded data removed]",
      "text/plain": [
       "<Figure size 432x288 with 1 Axes>"
      ]
     },
     "metadata": {
      "needs_background": "light"
     },
     "output_type": "display_data"
    }
   ],
   "source": [
    "import matplotlib.pyplot as plt\n",
    "\n",
    "x=[1,2,3,4,5]\n",
    "y=[-10,-20,30,40,-50]\n",
    "plt.plot(x,y)"
   ]
  },
  {
   "cell_type": "code",
   "execution_count": 59,
   "id": "e31333dc",
   "metadata": {},
   "outputs": [
    {
     "data": {
      "image/png": "[encoded data removed]",
      "text/plain": [
       "<Figure size 432x288 with 1 Axes>"
      ]
     },
     "metadata": {
      "needs_background": "light"
     },
     "output_type": "display_data"
    }
   ],
   "source": [
    "plt.scatter(x,y,label='this label')\n",
    "plt.xlabel(\"Title for the x axis\")\n",
    "plt.ylabel(\"Title for the y axis\")\n",
    "plt.legend(loc='upper left')\n",
    "plt.title(\"Main title\")\n",
    "plt.show();"
   ]
  },
  {
   "cell_type": "markdown",
   "id": "9d627373",
   "metadata": {},
   "source": [
    "## More plotting options with matplotlib"
   ]
  },
  {
   "cell_type": "code",
   "execution_count": 67,
   "id": "71d68d69",
   "metadata": {},
   "outputs": [
    {
     "name": "stdout",
     "output_type": "stream",
     "text": [
      "[-20, -40, 60, 80, -100]\n"
     ]
    },
    {
     "data": {
      "image/png": "[encoded data removed]",
      "text/plain": [
       "<Figure size 1080x720 with 2 Axes>"
      ]
     },
     "metadata": {
      "needs_background": "light"
     },
     "output_type": "display_data"
    }
   ],
   "source": [
    "fig = plt.figure(figsize=(15,10))\n",
    "\n",
    "\n",
    "ax1 = plt.subplot(121) #121 means: the subplots will be 1 row 2 columns and this one is subplot number 1\n",
    "ax2 = plt.subplot(122, sharey = ax1) #share-y means that it will share the y-axis with the ax1 plot\n",
    "#for 3x3 plot matrix you would have written subplot(331) 332 333 334...\n",
    "\n",
    "y2 = [n*2 for n in y]\n",
    "y3 = [n*3 for n in y]\n",
    "print(y2)\n",
    "ax1.plot(x,y2,'-o')\n",
    "ax2.plot(x,y3,'--');"
   ]
  },
  {
   "cell_type": "code",
   "execution_count": 72,
   "id": "9680a6d5",
   "metadata": {},
   "outputs": [
    {
     "data": {
      "image/png": "[encoded data removed]",
      "text/plain": [
       "<Figure size 1080x720 with 3 Axes>"
      ]
     },
     "metadata": {
      "needs_background": "light"
     },
     "output_type": "display_data"
    }
   ],
   "source": [
    "fig = plt.figure(figsize=(15,10))\n",
    "\n",
    "ax1 = plt.subplot(131) #121 means: the subplots will be 1 row 2 columns and this one is subplot number 1\n",
    "ax2 = plt.subplot(132, sharey = ax1) #share-y means that it will share the y-axis with the ax1 plot\n",
    "ax3 = plt.subplot(133, sharey = ax1) \n",
    "\n",
    "for n in range(10):\n",
    "    ax1.axhline(y=n*2,xmin=-2., xmax=2., c='green')\n",
    "for n in range(10):\n",
    "    ax2.axhline(y=n*0.5,xmin=0., xmax=2., c='blue')\n",
    "for n in range(10):\n",
    "    ax3.axhline(y=n*0.3,xmin=0., xmax=2., c='red')"
   ]
  },
  {
   "cell_type": "code",
   "execution_count": 74,
   "id": "53792ea6",
   "metadata": {},
   "outputs": [
    {
     "data": {
      "image/png": "[encoded data removed]",
      "text/plain": [
       "<Figure size 432x288 with 1 Axes>"
      ]
     },
     "metadata": {
      "needs_background": "light"
     },
     "output_type": "display_data"
    }
   ],
   "source": [
    "\n",
    "y = [1]*(len(y2)) # this is the height of the signal. It doesnt matter, just height = 1\n",
    "fig, ax = plt.subplots()\n",
    "ax.stem(y2, y, markerfmt=' ',linefmt=\"red\")\n",
    "ax.set_xlabel(\"Energy of the transition\")\n",
    "ax.set_ylabel(\"Absorbance\")\n",
    "ax.set_title(\"Absorption\");"
   ]
  },
  {
   "cell_type": "code",
   "execution_count": 75,
   "id": "18d213f6",
   "metadata": {},
   "outputs": [
    {
     "data": {
      "image/png": "[encoded data removed]",
      "text/plain": [
       "<Figure size 432x288 with 1 Axes>"
      ]
     },
     "metadata": {
      "needs_background": "light"
     },
     "output_type": "display_data"
    }
   ],
   "source": [
    "import matplotlib.pyplot as plt\n",
    "import numpy as np\n",
    "\n",
    "x = np.random.normal(170, 10, 250)\n",
    "\n",
    "plt.hist(x)\n",
    "plt.show() "
   ]
  }
 ],
 "metadata": {
  "kernelspec": {
   "display_name": "Python 3 (ipykernel)",
   "language": "python",
   "name": "python3"
  },
  "language_info": {
   "codemirror_mode": {
    "name": "ipython",
    "version": 3
   },
   "file_extension": ".py",
   "mimetype": "text/x-python",
   "name": "python",
   "nbconvert_exporter": "python",
   "pygments_lexer": "ipython3",
   "version": "3.10.2"
  },
  "toc": {
   "base_numbering": 1,
   "nav_menu": {},
   "number_sections": true,
   "sideBar": true,
   "skip_h1_title": false,
   "title_cell": "Table of Contents",
   "title_sidebar": "Contents",
   "toc_cell": true,
   "toc_position": {},
   "toc_section_display": true,
   "toc_window_display": true
  }
 },
 "nbformat": 4,
 "nbformat_minor": 5
}
