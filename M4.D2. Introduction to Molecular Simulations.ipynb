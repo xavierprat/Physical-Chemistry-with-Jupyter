{
 "cells": [
  {
   "cell_type": "markdown",
   "id": "a60a6424",
   "metadata": {
    "toc": true
   },
   "source": [
    "<h1>Table of Contents<span class=\"tocSkip\"></span></h1>\n",
    "<div class=\"toc\"><ul class=\"toc-item\"><li><span><a href=\"#Main-charactersitics-of-molecular-simulations\" data-toc-modified-id=\"Main-charactersitics-of-molecular-simulations-1\"><span class=\"toc-item-num\">1&nbsp;&nbsp;</span>Main charactersitics of molecular simulations</a></span></li><li><span><a href=\"#Simulation-of-liquids\" data-toc-modified-id=\"Simulation-of-liquids-2\"><span class=\"toc-item-num\">2&nbsp;&nbsp;</span>Simulation of liquids</a></span></li></ul></div>"
   ]
  },
  {
   "cell_type": "markdown",
   "id": "68551a80",
   "metadata": {},
   "source": [
    "# Main charactersitics of molecular simulations\n",
    "\n",
    "* The Molecular Mechanics Force Field: https://en.wikipedia.org/wiki/Force_field_(chemistry)\n",
    "* Long-range interactions: https://en.wikibooks.org/wiki/Molecular_Simulation/Treatment_of_Long_Range_Forces \n",
    "* The equations of motion: integrators https://en.wikipedia.org/wiki/Molecular_dynamics#Molecular_dynamics_algorithms \n",
    "* Thermostats\n",
    "* Barostats\n"
   ]
  },
  {
   "cell_type": "markdown",
   "id": "6018cf40",
   "metadata": {},
   "source": [
    "# Simulation of liquids\n",
    "\n",
    "Make sure you can successfully run a simulation of a box of waters. Watch the video if you need to.\n",
    "The files water.out, water-processed.pdb, and water.dcd are created after you run the simulation and they will be in the folder that you have indicated. These files will be easier to read if you select the same folder as where you have this notebook, if not, you may just need to copy them to the current folder.\n",
    "\n",
    "It is important that your simulation paramaters include\n",
    "* Write your results every 10 steps\n",
    "* At least 50 ps of simulation, that's 50000 steps of 1fs timestep.\n",
    "* Your output should include temperature, KE, PE and Total E."
   ]
  },
  {
   "cell_type": "code",
   "execution_count": 4,
   "id": "c6f64f2b",
   "metadata": {},
   "outputs": [
    {
     "data": {
      "text/html": [
       "<div>\n",
       "<style scoped>\n",
       "    .dataframe tbody tr th:only-of-type {\n",
       "        vertical-align: middle;\n",
       "    }\n",
       "\n",
       "    .dataframe tbody tr th {\n",
       "        vertical-align: top;\n",
       "    }\n",
       "\n",
       "    .dataframe thead th {\n",
       "        text-align: right;\n",
       "    }\n",
       "</style>\n",
       "<table border=\"1\" class=\"dataframe\">\n",
       "  <thead>\n",
       "    <tr style=\"text-align: right;\">\n",
       "      <th></th>\n",
       "      <th>#\"Step\"</th>\n",
       "      <th>Time (ps)</th>\n",
       "      <th>Potential Energy (kJ/mole)</th>\n",
       "      <th>Kinetic Energy (kJ/mole)</th>\n",
       "      <th>Total Energy (kJ/mole)</th>\n",
       "      <th>Temperature (K)</th>\n",
       "      <th>Box Volume (nm^3)</th>\n",
       "      <th>Density (g/mL)</th>\n",
       "    </tr>\n",
       "  </thead>\n",
       "  <tbody>\n",
       "    <tr>\n",
       "      <th>0</th>\n",
       "      <td>10</td>\n",
       "      <td>0.11</td>\n",
       "      <td>-15852.863671</td>\n",
       "      <td>1946.993188</td>\n",
       "      <td>-13905.870483</td>\n",
       "      <td>176.001094</td>\n",
       "      <td>9.353182</td>\n",
       "      <td>0.946724</td>\n",
       "    </tr>\n",
       "    <tr>\n",
       "      <th>1</th>\n",
       "      <td>20</td>\n",
       "      <td>0.12</td>\n",
       "      <td>-15597.068406</td>\n",
       "      <td>1758.497530</td>\n",
       "      <td>-13838.570876</td>\n",
       "      <td>158.961773</td>\n",
       "      <td>9.353182</td>\n",
       "      <td>0.946724</td>\n",
       "    </tr>\n",
       "    <tr>\n",
       "      <th>2</th>\n",
       "      <td>30</td>\n",
       "      <td>0.13</td>\n",
       "      <td>-15719.284506</td>\n",
       "      <td>1757.676208</td>\n",
       "      <td>-13961.608297</td>\n",
       "      <td>158.887529</td>\n",
       "      <td>9.338105</td>\n",
       "      <td>0.948253</td>\n",
       "    </tr>\n",
       "    <tr>\n",
       "      <th>3</th>\n",
       "      <td>40</td>\n",
       "      <td>0.14</td>\n",
       "      <td>-15856.482367</td>\n",
       "      <td>2010.354291</td>\n",
       "      <td>-13846.128076</td>\n",
       "      <td>181.728707</td>\n",
       "      <td>9.338105</td>\n",
       "      <td>0.948253</td>\n",
       "    </tr>\n",
       "    <tr>\n",
       "      <th>4</th>\n",
       "      <td>50</td>\n",
       "      <td>0.15</td>\n",
       "      <td>-15583.168041</td>\n",
       "      <td>1850.758898</td>\n",
       "      <td>-13732.409143</td>\n",
       "      <td>167.301865</td>\n",
       "      <td>9.268756</td>\n",
       "      <td>0.955348</td>\n",
       "    </tr>\n",
       "    <tr>\n",
       "      <th>...</th>\n",
       "      <td>...</td>\n",
       "      <td>...</td>\n",
       "      <td>...</td>\n",
       "      <td>...</td>\n",
       "      <td>...</td>\n",
       "      <td>...</td>\n",
       "      <td>...</td>\n",
       "      <td>...</td>\n",
       "    </tr>\n",
       "    <tr>\n",
       "      <th>4995</th>\n",
       "      <td>49960</td>\n",
       "      <td>50.06</td>\n",
       "      <td>-14399.581223</td>\n",
       "      <td>3315.126929</td>\n",
       "      <td>-11084.454295</td>\n",
       "      <td>299.675402</td>\n",
       "      <td>8.586259</td>\n",
       "      <td>1.031285</td>\n",
       "    </tr>\n",
       "    <tr>\n",
       "      <th>4996</th>\n",
       "      <td>49970</td>\n",
       "      <td>50.07</td>\n",
       "      <td>-14448.337692</td>\n",
       "      <td>3320.166359</td>\n",
       "      <td>-11128.171332</td>\n",
       "      <td>300.130949</td>\n",
       "      <td>8.586259</td>\n",
       "      <td>1.031285</td>\n",
       "    </tr>\n",
       "    <tr>\n",
       "      <th>4997</th>\n",
       "      <td>49980</td>\n",
       "      <td>50.08</td>\n",
       "      <td>-14448.884486</td>\n",
       "      <td>3343.899860</td>\n",
       "      <td>-11104.984626</td>\n",
       "      <td>302.276371</td>\n",
       "      <td>8.556562</td>\n",
       "      <td>1.034865</td>\n",
       "    </tr>\n",
       "    <tr>\n",
       "      <th>4998</th>\n",
       "      <td>49990</td>\n",
       "      <td>50.09</td>\n",
       "      <td>-14419.638159</td>\n",
       "      <td>3334.846615</td>\n",
       "      <td>-11084.791544</td>\n",
       "      <td>301.457990</td>\n",
       "      <td>8.648801</td>\n",
       "      <td>1.023828</td>\n",
       "    </tr>\n",
       "    <tr>\n",
       "      <th>4999</th>\n",
       "      <td>50000</td>\n",
       "      <td>50.10</td>\n",
       "      <td>-14345.658959</td>\n",
       "      <td>3278.600705</td>\n",
       "      <td>-11067.058254</td>\n",
       "      <td>296.373565</td>\n",
       "      <td>8.568750</td>\n",
       "      <td>1.033393</td>\n",
       "    </tr>\n",
       "  </tbody>\n",
       "</table>\n",
       "<p>5000 rows × 8 columns</p>\n",
       "</div>"
      ],
      "text/plain": [
       "      #\"Step\"  Time (ps)  Potential Energy (kJ/mole)  \\\n",
       "0          10       0.11               -15852.863671   \n",
       "1          20       0.12               -15597.068406   \n",
       "2          30       0.13               -15719.284506   \n",
       "3          40       0.14               -15856.482367   \n",
       "4          50       0.15               -15583.168041   \n",
       "...       ...        ...                         ...   \n",
       "4995    49960      50.06               -14399.581223   \n",
       "4996    49970      50.07               -14448.337692   \n",
       "4997    49980      50.08               -14448.884486   \n",
       "4998    49990      50.09               -14419.638159   \n",
       "4999    50000      50.10               -14345.658959   \n",
       "\n",
       "      Kinetic Energy (kJ/mole)  Total Energy (kJ/mole)  Temperature (K)  \\\n",
       "0                  1946.993188           -13905.870483       176.001094   \n",
       "1                  1758.497530           -13838.570876       158.961773   \n",
       "2                  1757.676208           -13961.608297       158.887529   \n",
       "3                  2010.354291           -13846.128076       181.728707   \n",
       "4                  1850.758898           -13732.409143       167.301865   \n",
       "...                        ...                     ...              ...   \n",
       "4995               3315.126929           -11084.454295       299.675402   \n",
       "4996               3320.166359           -11128.171332       300.130949   \n",
       "4997               3343.899860           -11104.984626       302.276371   \n",
       "4998               3334.846615           -11084.791544       301.457990   \n",
       "4999               3278.600705           -11067.058254       296.373565   \n",
       "\n",
       "      Box Volume (nm^3)  Density (g/mL)  \n",
       "0              9.353182        0.946724  \n",
       "1              9.353182        0.946724  \n",
       "2              9.338105        0.948253  \n",
       "3              9.338105        0.948253  \n",
       "4              9.268756        0.955348  \n",
       "...                 ...             ...  \n",
       "4995           8.586259        1.031285  \n",
       "4996           8.586259        1.031285  \n",
       "4997           8.556562        1.034865  \n",
       "4998           8.648801        1.023828  \n",
       "4999           8.568750        1.033393  \n",
       "\n",
       "[5000 rows x 8 columns]"
      ]
     },
     "metadata": {},
     "output_type": "display_data"
    }
   ],
   "source": [
    "import pandas as pd\n",
    "\n",
    "data = pd.read_csv(\"water_box/water.out\",sep=\"\\t\")\n",
    "display(data)\n",
    "#using iloc I can select the 3rd column\n",
    "myPE = data.iloc[:,2]\n",
    "myKE = data.iloc[:,3]\n",
    "myT = data.iloc[:,5]\n",
    "myDens = data.iloc[:,7]"
   ]
  },
  {
   "cell_type": "code",
   "execution_count": null,
   "id": "3c1ae434",
   "metadata": {},
   "outputs": [],
   "source": []
  },
  {
   "cell_type": "code",
   "execution_count": 15,
   "id": "01c95178",
   "metadata": {},
   "outputs": [
    {
     "data": {
      "text/plain": [
       "[<matplotlib.lines.Line2D at 0x13703f0a0>]"
      ]
     },
     "execution_count": 15,
     "metadata": {},
     "output_type": "execute_result"
    },
    {
     "data": {
      "image/png": "[encoded data removed]",
      "text/plain": [
       "<Figure size 432x288 with 1 Axes>"
      ]
     },
     "metadata": {
      "needs_background": "light"
     },
     "output_type": "display_data"
    }
   ],
   "source": [
    "import matplotlib.pyplot as plt\n",
    "\n",
    "plt.plot(myPE)\n",
    "plt.plot(myPE[200:])"
   ]
  },
  {
   "cell_type": "code",
   "execution_count": 5,
   "id": "cefc03eb",
   "metadata": {},
   "outputs": [
    {
     "data": {
      "text/plain": [
       "[<matplotlib.lines.Line2D at 0x15625a620>]"
      ]
     },
     "execution_count": 5,
     "metadata": {},
     "output_type": "execute_result"
    },
    {
     "data": {
      "image/png": "[encoded data removed]",
      "text/plain": [
       "<Figure size 432x288 with 1 Axes>"
      ]
     },
     "metadata": {
      "needs_background": "light"
     },
     "output_type": "display_data"
    }
   ],
   "source": [
    "plt.plot(myDens)\n",
    "plt.plot(myDens[200:])"
   ]
  },
  {
   "cell_type": "code",
   "execution_count": 3,
   "id": "0ff91354",
   "metadata": {},
   "outputs": [
    {
     "data": {
      "text/plain": [
       "[<matplotlib.lines.Line2D at 0x1561e6aa0>]"
      ]
     },
     "execution_count": 3,
     "metadata": {},
     "output_type": "execute_result"
    },
    {
     "data": {
      "image/png": "[encoded data removed]",
      "text/plain": [
       "<Figure size 432x288 with 1 Axes>"
      ]
     },
     "metadata": {
      "needs_background": "light"
     },
     "output_type": "display_data"
    }
   ],
   "source": [
    "import matplotlib.pyplot as plt\n",
    "\n",
    "plt.plot(myT)\n",
    "plt.plot(myT[200:])"
   ]
  },
  {
   "cell_type": "markdown",
   "id": "8b334099",
   "metadata": {},
   "source": [
    "Your turn\n",
    "* In a similar fashion as above, plot the kinetic energy, the total energy of the system, and the temperature\n",
    "* Why is the kinetic energy always positive and the potential always negative?\n",
    "* At what portion of the simulation are your properties stable enough that allow you to start \"measuring\"?\n",
    "\n",
    "The heat capacity can also be computed from the simulation using the total energy average of squares.\n",
    "\n",
    "$$\n",
    "<E>^2 - <E^2>\n",
    "$$\n",
    "\n",
    "* Build a loop to calculate the heat capacity (we won't be discussing its units for now)"
   ]
  },
  {
   "cell_type": "code",
   "execution_count": 68,
   "id": "6902292f",
   "metadata": {},
   "outputs": [
    {
     "name": "stdout",
     "output_type": "stream",
     "text": [
      "70213.67867276073\n"
     ]
    }
   ],
   "source": [
    "totE = data.iloc[:,4]\n",
    "\n",
    "aveE = 0\n",
    "aveE2 = 0\n",
    "for e in totE:\n",
    "    e = float(e)\n",
    "    aveE += e\n",
    "    aveE2 += e**2\n",
    "\n",
    "totSteps = len(totE)\n",
    "\n",
    "averageE_squared = (aveE/totSteps)**2\n",
    "averageSquared_E = (aveE2/totSteps)\n",
    "\n",
    "print(averageSquared_E-averageE_squared)"
   ]
  },
  {
   "cell_type": "markdown",
   "id": "b4936e0f",
   "metadata": {},
   "source": [
    "* You can use MDanalysis to read the trajectory. Here below is an example where we monitor the distance between two oxygens in two different waters. How can you explain the big jumps in distance?"
   ]
  },
  {
   "cell_type": "code",
   "execution_count": 58,
   "id": "8d460d55",
   "metadata": {},
   "outputs": [
    {
     "data": {
      "image/png": "[encoded data removed]",
      "text/plain": [
       "<Figure size 432x288 with 1 Axes>"
      ]
     },
     "metadata": {
      "needs_background": "light"
     },
     "output_type": "display_data"
    }
   ],
   "source": [
    "import MDAnalysis as mda\n",
    "import numpy as np\n",
    "\n",
    "u = mda.Universe('water_box/water-processed.pdb','water_box/water.dcd')\n",
    "\n",
    "dist = []\n",
    "for snap in u.trajectory:\n",
    "    #selecting the central atom\n",
    "    myO1 = u.select_atoms(\"name O and segid 2\").center_of_geometry()\n",
    "    myO2 = u.select_atoms(\"name O and resid 2 and segid 3\").center_of_geometry()\n",
    "    #selecting\n",
    "    myDist = np.linalg.norm(myO1-myO2)\n",
    "    dist.append(myDist)\n",
    "\n",
    "plt.plot(dist);"
   ]
  },
  {
   "cell_type": "markdown",
   "id": "f6770684",
   "metadata": {},
   "source": [
    "* Fun exercise: Using raw python (no extra modules) open the initial pdb file, read line by line, and find the water that is closest to first water and follow its distance throughout the trajectory."
   ]
  },
  {
   "cell_type": "code",
   "execution_count": null,
   "id": "a48ec50b",
   "metadata": {},
   "outputs": [],
   "source": []
  }
 ],
 "metadata": {
  "kernelspec": {
   "display_name": "Python 3 (ipykernel)",
   "language": "python",
   "name": "python3"
  },
  "language_info": {
   "codemirror_mode": {
    "name": "ipython",
    "version": 3
   },
   "file_extension": ".py",
   "mimetype": "text/x-python",
   "name": "python",
   "nbconvert_exporter": "python",
   "pygments_lexer": "ipython3",
   "version": "3.10.2"
  },
  "toc": {
   "base_numbering": 1,
   "nav_menu": {},
   "number_sections": true,
   "sideBar": true,
   "skip_h1_title": false,
   "title_cell": "Table of Contents",
   "title_sidebar": "Contents",
   "toc_cell": true,
   "toc_position": {},
   "toc_section_display": true,
   "toc_window_display": true
  }
 },
 "nbformat": 4,
 "nbformat_minor": 5
}
