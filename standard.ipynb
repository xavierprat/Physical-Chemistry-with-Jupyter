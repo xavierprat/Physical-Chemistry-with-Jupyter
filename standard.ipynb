{
 "cells": [
  {
   "cell_type": "markdown",
   "id": "1ac5f4b5",
   "metadata": {
    "toc": true
   },
   "source": [
    "<h1>Table of Contents<span class=\"tocSkip\"></span></h1>\n",
    "<div class=\"toc\"><ul class=\"toc-item\"><li><span><a href=\"#Learning-Objectives-for-M1D1.\" data-toc-modified-id=\"Learning-Objectives-for-M1D1.-1\"><span class=\"toc-item-num\">1&nbsp;&nbsp;</span>Learning Objectives for M1D1.</a></span></li><li><span><a href=\"#What-to-submit\" data-toc-modified-id=\"What-to-submit-2\"><span class=\"toc-item-num\">2&nbsp;&nbsp;</span>What to submit</a></span></li></ul></div>"
   ]
  },
  {
   "cell_type": "markdown",
   "id": "6c50f7b9",
   "metadata": {},
   "source": [
    "# Learning Objectives for M1D1.\n",
    "\n",
    "* LO1: \n",
    "* LO2:"
   ]
  },
  {
   "cell_type": "markdown",
   "id": "57377900",
   "metadata": {},
   "source": [
    "**Exercise A**"
   ]
  },
  {
   "cell_type": "code",
   "execution_count": null,
   "id": "de66ce91",
   "metadata": {},
   "outputs": [],
   "source": []
  },
  {
   "cell_type": "markdown",
   "id": "b5f7df25",
   "metadata": {},
   "source": [
    "# What to submit\n",
    "\n",
    "* Make sure that the whole notebook does not give any errors if you \"Run All\""
   ]
  },
  {
   "cell_type": "code",
   "execution_count": null,
   "id": "d91c8e99",
   "metadata": {},
   "outputs": [],
   "source": []
  }
 ],
 "metadata": {
  "kernelspec": {
   "display_name": "Python 3 (ipykernel)",
   "language": "python",
   "name": "python3"
  },
  "language_info": {
   "codemirror_mode": {
    "name": "ipython",
    "version": 3
   },
   "file_extension": ".py",
   "mimetype": "text/x-python",
   "name": "python",
   "nbconvert_exporter": "python",
   "pygments_lexer": "ipython3",
   "version": "3.10.2"
  },
  "toc": {
   "base_numbering": 1,
   "nav_menu": {},
   "number_sections": true,
   "sideBar": true,
   "skip_h1_title": false,
   "title_cell": "Table of Contents",
   "title_sidebar": "Contents",
   "toc_cell": true,
   "toc_position": {},
   "toc_section_display": true,
   "toc_window_display": false
  }
 },
 "nbformat": 4,
 "nbformat_minor": 5
}
