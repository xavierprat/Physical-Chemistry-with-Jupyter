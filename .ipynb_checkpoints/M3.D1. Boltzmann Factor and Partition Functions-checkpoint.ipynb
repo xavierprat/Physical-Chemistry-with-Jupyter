{
 "cells": [
  {
   "cell_type": "markdown",
   "id": "b7c253e6",
   "metadata": {
    "toc": true
   },
   "source": [
    "<h1>Table of Contents<span class=\"tocSkip\"></span></h1>\n",
    "<div class=\"toc\"><ul class=\"toc-item\"><li><span><a href=\"#Goals:-The-main-question-Statistical-Thermodynamics-will-answer\" data-toc-modified-id=\"Goals:-The-main-question-Statistical-Thermodynamics-will-answer-1\"><span class=\"toc-item-num\">1&nbsp;&nbsp;</span>Goals: The main question Statistical Thermodynamics will answer</a></span></li><li><span><a href=\"#The-Boltzmann-factor:-the-probability-of-an-energy-level.\" data-toc-modified-id=\"The-Boltzmann-factor:-the-probability-of-an-energy-level.-2\"><span class=\"toc-item-num\">2&nbsp;&nbsp;</span>The Boltzmann factor: the probability of an energy level.</a></span></li><li><span><a href=\"#Partition-functions-give-us-the-overall-number-of-states-available-and-it-allows-us-to-calculate-the-normalized-probability\" data-toc-modified-id=\"Partition-functions-give-us-the-overall-number-of-states-available-and-it-allows-us-to-calculate-the-normalized-probability-3\"><span class=\"toc-item-num\">3&nbsp;&nbsp;</span>Partition functions give us the overall number of states available and it allows us to calculate the normalized probability</a></span></li><li><span><a href=\"#Boltzmann-distribution:-the-function-of-probabilities-give-us-how-energy-is-distributed.\" data-toc-modified-id=\"Boltzmann-distribution:-the-function-of-probabilities-give-us-how-energy-is-distributed.-4\"><span class=\"toc-item-num\">4&nbsp;&nbsp;</span>Boltzmann distribution: the function of probabilities give us how energy is distributed.</a></span><ul class=\"toc-item\"><li><span><a href=\"#Example-of-a-Boltzmann-distribution\" data-toc-modified-id=\"Example-of-a-Boltzmann-distribution-4.1\"><span class=\"toc-item-num\">4.1&nbsp;&nbsp;</span>Example of a Boltzmann distribution</a></span></li></ul></li><li><span><a href=\"#Density-of-states\" data-toc-modified-id=\"Density-of-states-5\"><span class=\"toc-item-num\">5&nbsp;&nbsp;</span>Density of states</a></span></li><li><span><a href=\"#How-degeneracy-affect-Boltzmann-distributions\" data-toc-modified-id=\"How-degeneracy-affect-Boltzmann-distributions-6\"><span class=\"toc-item-num\">6&nbsp;&nbsp;</span>How degeneracy affect Boltzmann distributions</a></span></li></ul></div>"
   ]
  },
  {
   "cell_type": "markdown",
   "id": "7eb076a2",
   "metadata": {},
   "source": [
    "# Goals: The main question Statistical Thermodynamics will answer\n",
    "\n",
    "Statistical Thermodynamics or Statistical Mechanics will tell us how the atomic and molecular structure are connected and affect the macroscopic world.\n",
    "\n",
    "In this session we will learn:\n",
    "* What the Boltzmann factor is\n",
    "* What the partition function is\n",
    "* The dependency of the above magnitudes on temperature and \"density of states\"\n",
    "* What the Boltzmann distribution is\n",
    "* How degeneracy affects the Boltzmann distribution\n",
    "\n",
    "Starting questions:\n",
    "\n",
    "You have an infinite collection of molecules of Br2 at a room temperature 300K.\n",
    "* **What is the probability that if I pick a random molecule of Br2 it has a specific vibrational energy?**\n",
    "* **Given a certain amount of energy (in quanta) how is that energy going to be distributed among the molecules? Will the energy be evenly distributed as in will each molecule have an equal amount of energy? Will most energy be accumulated in one small group of molecules?**"
   ]
  },
  {
   "cell_type": "markdown",
   "id": "b58b0172",
   "metadata": {},
   "source": [
    "# The Boltzmann factor: the probability of an energy level.\n",
    "\n",
    "Think of the vibrational levels of a diatomic molecule:\n",
    "\n",
    "$$\n",
    "E_v = \\hbar\\omega(v+1/2) = \\hbar \\sqrt{\\left(\\frac{k}{\\mu}\\right)}(v+1/2)\n",
    "$$\n",
    "\n",
    "where there are infinite levels v=0,1,2,3,4...\n",
    "\n",
    "For a reason we will explain later, we want to consider our zero of energy the lowest energy so\n",
    "\n",
    "$$\n",
    "E_v = \\hbar\\omega(v+1/2)-ZeroPointEnergy = \\hbar\\omega v\n",
    "$$\n"
   ]
  },
  {
   "cell_type": "code",
   "execution_count": 1,
   "id": "7f1171c8",
   "metadata": {},
   "outputs": [
    {
     "data": {
      "image/png": "[encoded data removed]",
      "text/plain": [
       "<Figure size 504x720 with 1 Axes>"
      ]
     },
     "metadata": {
      "needs_background": "light"
     },
     "output_type": "display_data"
    }
   ],
   "source": [
    "import matplotlib.pyplot as plt\n",
    "fig = plt.figure(figsize=(7,10))\n",
    "ax = plt.subplot()\n",
    "enes=[]\n",
    "hbar=1\n",
    "freq=200 # in cm-1 so that energy is in cm-1\n",
    "for v in range(10):\n",
    "    ene=hbar*freq*v\n",
    "    ax.axhline(ene)\n",
    "    enes.append(ene)\n",
    "ax.set_title(\"Vibrational energy levels\")\n",
    "ax.set_ylabel(\"Energy\");"
   ]
  },
  {
   "cell_type": "markdown",
   "id": "74f0a36c",
   "metadata": {},
   "source": [
    "**The question is, are all energy states equally available? What is the probability of finding a molecule at a given energy?**\n",
    "\n",
    "(note: this formulation was first designed for macroscopic systems where temperature was defined, but to make things more relatable, we are starting discussing it in a context of one molecule at a constant temperature)\n",
    "\n",
    "The probability is given by the Boltzmann factor:\n",
    "\n",
    "\n",
    "$$\n",
    "\\textrm{Probability of a molecule with an energy } E_i=a_i = C \\cdot e^{-\\frac{-E_i}{K_B T}}\n",
    "$$\n",
    "\n",
    "Notice that $K_B$ is the Boltzmann constant and T is the temperature.\n",
    "\n",
    "For the time being, $C$ is an arbitrary number and no physical meaning\n",
    "\n",
    "Let's see how the Boltzmann factor changes if we change the energy:"
   ]
  },
  {
   "cell_type": "code",
   "execution_count": 2,
   "id": "c979b89b",
   "metadata": {},
   "outputs": [
    {
     "name": "stdout",
     "output_type": "stream",
     "text": [
      "When energy is  0  the non-normalized probability is  1.0\n",
      "When energy is  200  the non-normalized probability is  0.38318682541829635\n",
      "When energy is  400  the non-normalized probability is  0.1468321431741519\n",
      "When energy is  600  the non-normalized probability is  0.05626414281226805\n",
      "When energy is  800  the non-normalized probability is  0.021559678269114646\n",
      "When energy is  1000  the non-normalized probability is  0.008261384672981873\n",
      "When energy is  1200  the non-normalized probability is  0.003165653766399294\n",
      "When energy is  1400  the non-normalized probability is  0.0012130368171200184\n",
      "When energy is  1600  the non-normalized probability is  0.00046481972706773425\n",
      "When energy is  1800  the non-normalized probability is  0.00017811279560688402\n"
     ]
    },
    {
     "data": {
      "image/png": "[encoded data removed]",
      "text/plain": [
       "<Figure size 432x288 with 1 Axes>"
      ]
     },
     "metadata": {
      "needs_background": "light"
     },
     "output_type": "display_data"
    }
   ],
   "source": [
    "import numpy as np\n",
    "C=1\n",
    "KB=0.695 # this is KB in cm-1/Kelvin units\n",
    "T=300 # room temperature\n",
    "ais=[]\n",
    "for ene in enes:\n",
    "    ai = C*np.exp(-ene/(KB*T))\n",
    "    ais.append(ai)\n",
    "    print(\"When energy is \",ene,\" the non-normalized probability is \",ai)\n",
    "\n",
    "import matplotlib.pyplot as plt\n",
    "\n",
    "plt.plot(ais);\n",
    "plt.title(\"Boltzmann factor\")\n",
    "plt.xlabel(\"Energy level\")\n",
    "plt.ylabel(\"Non-normalized probability\");"
   ]
  },
  {
   "cell_type": "markdown",
   "id": "fee01da5",
   "metadata": {},
   "source": [
    "Conclusion: the higher the energy, the lower the probability of a molecule to ahve that energy.\n",
    "\n",
    "* What is the effect of temperature? Repeat the above script at a higher temperature\n"
   ]
  },
  {
   "cell_type": "markdown",
   "id": "d65dd547",
   "metadata": {},
   "source": [
    "# Partition functions give us the overall number of states available and it allows us to calculate the normalized probability\n",
    "\n",
    "The probability that the Boltzmann factor gives us is not a true probability because it is not normalized.\n",
    "\n",
    "If we add **all possible energy states**, the overall probability will be one.\n",
    "\n",
    "$$\n",
    "p_i=\\textrm{Normalized probability} = \\frac{\\textrm{probability of one state E}}{\\textrm{Adding all states E}}=\n",
    "\\frac{C e^{-\\frac{-Ei}{K_B T}}}{\\sum_k^{all states} C e^{-\\frac{E_k}{K_B T}}}\n",
    "$$\n",
    "\n",
    "The factor $C$ cancels out\n",
    "$$\n",
    "p_i=\\frac{C e^{-\\frac{-Ei}{K_B T}}}{\\sum_k^{all states} C e^{-\\frac{E_k}{K_B T}}}=\\frac{e^{-\\frac{-Ei}{K_B T}}}{\\sum_k^{all states}  e^{-\\frac{E_k}{K_B T}}}\n",
    "$$\n",
    "\n",
    "\n",
    "The partition function q(T) can be thought as the total number of energy states available, and it's a weigted sum of all states where lower energy states contribute more\n",
    "\n",
    "$$\n",
    "q(T) = \\sum_k^{all states}  e^{-\\frac{E_k}{K_B T}}\n",
    "$$\n",
    "\n",
    "so\n",
    "\n",
    "$$\n",
    "p_i = \\frac{e^{-\\frac{-Ei}{K_B T}}}{q(T)}\n",
    "$$\n",
    "\n",
    "\n",
    "**How many states are available at a given temperature?** \n",
    "\n",
    "The number of states available at a given temperature is called the partition function."
   ]
  },
  {
   "cell_type": "code",
   "execution_count": 3,
   "id": "24a3a0bc",
   "metadata": {},
   "outputs": [
    {
     "name": "stdout",
     "output_type": "stream",
     "text": [
      "1.0 1.0\n",
      "0.38318682541829635 1.3831868254182964\n",
      "0.1468321431741519 1.5300189685924483\n",
      "0.05626414281226805 1.5862831114047165\n",
      "0.021559678269114646 1.607842789673831\n",
      "0.008261384672981873 1.6161041743468127\n",
      "0.003165653766399294 1.619269828113212\n",
      "0.0012130368171200184 1.620482864930332\n",
      "0.00046481972706773425 1.6209476846573998\n",
      "0.00017811279560688402 1.6211257974530067\n"
     ]
    }
   ],
   "source": [
    "#Calculate q\n",
    "q=0\n",
    "KB=0.695 # this is KB in cm-1/Kelvin units\n",
    "T=300 # room temperature\n",
    "for v in range(10):\n",
    "    boltz = np.exp(-enes[v]/(KB*T))\n",
    "    q = q + boltz\n",
    "    print(boltz,q)"
   ]
  },
  {
   "cell_type": "code",
   "execution_count": 4,
   "id": "cc7856de",
   "metadata": {},
   "outputs": [
    {
     "name": "stdout",
     "output_type": "stream",
     "text": [
      "When energy is  0  the normalized probability is  0.6168552752483035\n",
      "When energy is  200  the normalized probability is  0.23637081466492682\n",
      "When energy is  400  the normalized probability is  0.09057418209298979\n",
      "When energy is  600  the normalized probability is  0.034706833301071466\n",
      "When energy is  800  the normalized probability is  0.013299201272959584\n",
      "When energy is  1000  the normalized probability is  0.00509607871638435\n",
      "When energy is  1200  the normalized probability is  0.0019527502254130652\n",
      "When energy is  1400  the normalized probability is  0.000748268159710895\n",
      "When energy is  1600  the normalized probability is  0.0002867265006812085\n",
      "When energy is  1800  the normalized probability is  0.00010986981755932928\n"
     ]
    },
    {
     "data": {
      "image/png": "[encoded data removed]",
      "text/plain": [
       "<Figure size 432x288 with 1 Axes>"
      ]
     },
     "metadata": {
      "needs_background": "light"
     },
     "output_type": "display_data"
    }
   ],
   "source": [
    "pis = []\n",
    "for v in range(10):\n",
    "    pi = np.exp(-enes[v]/(KB*T))/q\n",
    "    pis.append(pi)\n",
    "    print(\"When energy is \",enes[v],\" the normalized probability is \",pi)\n",
    "    \n",
    "plt.plot(pis)\n",
    "plt.title(\"Normalized probability of a vibrational level of v=\"+str(freq)+\"cm-1 and at T=\"+str(T)+\"Kelvin\");"
   ]
  },
  {
   "cell_type": "markdown",
   "id": "d091f12f",
   "metadata": {},
   "source": [
    "* Repeat the above calculation of probabilities at a higher temperature"
   ]
  },
  {
   "cell_type": "markdown",
   "id": "b59f138d",
   "metadata": {},
   "source": [
    "# Boltzmann distribution: the function of probabilities give us how energy is distributed.\n",
    "\n",
    "So far we have just identified the Boltzmann factor as the probability $p_i$ for a system to have an energy $E_i$. However, you can see the function of probabilities $p(i)$ \n",
    "\n",
    "In how many ways can you distribute 7 units of energy among 9 molecules.\n",
    "\n",
    "A way to understand this is that imagine that you want to know how you can distribute 7 undistinguishable apples to 9 different (distinguishable) students. It's important to realize that the distribution of giving one apple to each student is not as likely as one student with 3 apples, another with 2 and 2 students with one each.\n",
    "\n",
    "<img src=\"./distributions.gif\" />\n",
    "\n",
    "Click [here](https://drive.google.com/file/d/1-421erhWwncGhYWvQOWH4ZvOqDSAbR5z/view) if you can't see the image.\n",
    "\n",
    "These number can also be seen when distributing 7 quanta of energy among 9 particles [https://www.stolaf.edu/depts/chemistry/imt/js/boltz/index.htm](https://www.stolaf.edu/depts/chemistry/imt/js/boltz/index.htm)\n",
    "\n",
    "In this sense, the Boltzmann distribution is just one of the possible 15 distribution (labeled above as J), but it is the most probable one as it the one with the highest number of instances.\n",
    "\n",
    "The number of possibilities (W: microstates) of the most common distribution can be calculated as\n",
    "\n",
    "$$\n",
    "W = \\frac{N_{mol}!}{N_{mol 1}! N_{mol 2}! N_{mol 3}!...} = \\frac{9!}{5! 2! 1! 1!} = 1512\n",
    "$$\n",
    "\n",
    "If we recall from the videos that Boltzmann's equation relates to the entropy\n",
    "\n",
    "$$\n",
    "S = K_B ln(W)\n",
    "$$\n",
    "\n",
    "We can rephrase the 2nd law of thermodynamics not as \"disorder\" but as the system will evolve towards a more probable distribution which will be the one with the highest number of microstates (W)."
   ]
  },
  {
   "cell_type": "markdown",
   "id": "873882df",
   "metadata": {},
   "source": [
    "## Example of a Boltzmann distribution\n",
    "\n",
    "The following is a Python implementation of the \"Boltzmann game\" as described here https://pubs.acs.org/doi/10.1021/ed083p581\n",
    "\n",
    "Imagine you give one dollar bill to each of your 30 students. Students start playing \"rock,paper,scissors\" among random pairs and whoever loses gives the dollar bill to the winner. After several iterations you will see that the majority of students have no money, a handful have one dollar bill, and even fewer students have two bills. This trend follows a Boltzmann distribution.\n",
    "\n",
    "The bets keep going and money is exchanged. Every distribution of money is what it is called a **microstate**."
   ]
  },
  {
   "cell_type": "code",
   "execution_count": 26,
   "id": "1b81a5b8",
   "metadata": {},
   "outputs": [
    {
     "data": {
      "image/png": "[encoded data removed]",
      "text/plain": [
       "<Figure size 432x288 with 1 Axes>"
      ]
     },
     "metadata": {
      "needs_background": "light"
     },
     "output_type": "display_data"
    }
   ],
   "source": [
    "import random\n",
    "import numpy as np\n",
    "import pandas as pd\n",
    "nstudents = 400\n",
    "npairs = 200\n",
    "#we give a dollar to all students\n",
    "distr = np.ones(nstudents)\n",
    "for bet in range(2000):\n",
    "    for n in range(npairs):\n",
    "        #play\n",
    "        if np.random.random() > 0.5:\n",
    "            #it can only give if it has any money. Prevent negative money\n",
    "            if distr[2*n+1] > 0:\n",
    "                #first student wins, second student loses\n",
    "                distr[2*n] = distr[2*n] + 1\n",
    "                distr[2*n+1] = distr[2*n+1] - 1\n",
    "        else:\n",
    "            if distr[2*n] > 0:\n",
    "                #first student loses, second student wins\n",
    "                distr[2*n] = distr[2*n] - 1\n",
    "                distr[2*n+1] = distr[2*n+1] + 1\n",
    "    #randomize players\n",
    "    random.shuffle(distr)\n",
    "boltzmann = pd.Series(distr)\n",
    "boltzmann.plot.hist();"
   ]
  },
  {
   "cell_type": "markdown",
   "id": "594875cb",
   "metadata": {},
   "source": [
    "The money game can be thought as a model for how a collective of molecules will exchange energy. For simplicity notice that this model would emulate the vibrational harmonic oscillator where levels are equally spaced, that is, one dollar bill increases your \"energy\" by a unit of one.\n",
    "\n"
   ]
  },
  {
   "cell_type": "markdown",
   "id": "ed2cd48c",
   "metadata": {},
   "source": [
    "# Density of states\n",
    "\n",
    "The density of states tell us how closely spaced are the energy levels. For example, a typical C=O vibration will have a frequency of 1750 cm-1 while the C-H will be around 3000 cm-1. "
   ]
  },
  {
   "cell_type": "code",
   "execution_count": 5,
   "id": "f8f49e4f",
   "metadata": {},
   "outputs": [
    {
     "name": "stdout",
     "output_type": "stream",
     "text": [
      "The partition function for the vibration C=O with freq=1750cm-1 at T=300K is q=1.0002264335658049\n",
      "The partition function for the vibration C-H with freq=3000cm-1 at T=300K is q=1.0000005638437601\n"
     ]
    },
    {
     "data": {
      "image/png": "[encoded data removed]",
      "text/plain": [
       "<Figure size 504x360 with 2 Axes>"
      ]
     },
     "metadata": {
      "needs_background": "light"
     },
     "output_type": "display_data"
    },
    {
     "data": {
      "image/png": "[encoded data removed]",
      "text/plain": [
       "<Figure size 864x360 with 2 Axes>"
      ]
     },
     "metadata": {
      "needs_background": "light"
     },
     "output_type": "display_data"
    }
   ],
   "source": [
    "fig = plt.figure(figsize=(7,5))\n",
    "ax1 = plt.subplot(121) #121 means: the subplots will be 1 row 2 columns and this one is subplot number 1\n",
    "ax2 = plt.subplot(122, sharey = ax1) #share-y means that it will share the y-axis with the ax1 plot\n",
    "\n",
    "freqCH = 3000\n",
    "freqCO = 1750\n",
    "hbar = 1 #working in cm-1 units\n",
    "\n",
    "#Calculate the energies\n",
    "enesCO = []\n",
    "enesCH = []\n",
    "for v in range(10):\n",
    "    eneCO = hbar*freqCO*v\n",
    "    eneCH = hbar*freqCH*v\n",
    "    ax1.axhline(eneCO)\n",
    "    ax2.axhline(eneCH)\n",
    "    enesCO.append(eneCO)\n",
    "    enesCH.append(eneCH)\n",
    "ax1.set_title(\"Vibrational energy levels for C=O\")\n",
    "ax2.set_title(\"Vibrational energy levels for C-H\")\n",
    "    \n",
    "#Calculate q\n",
    "qCH=0\n",
    "qCO=0\n",
    "KB=0.695 # this is KB in cm-1/Kelvin units\n",
    "T=300 # room temperature\n",
    "for v in range(10):\n",
    "    boltzCH = np.exp(-enesCH[v]/(KB*T))\n",
    "    boltzCO = np.exp(-enesCO[v]/(KB*T))\n",
    "    qCH = qCH + boltzCH\n",
    "    qCO = qCO + boltzCO\n",
    "    \n",
    "print(\"The partition function for the vibration C=O with freq=\"+str(freqCO)+\"cm-1 at T=\"+str(T)+\"K is q=\"+str(qCO))\n",
    "print(\"The partition function for the vibration C-H with freq=\"+str(freqCH)+\"cm-1 at T=\"+str(T)+\"K is q=\"+str(qCH))\n",
    "\n",
    "pCO =[]\n",
    "pCH =[]\n",
    "for v in range(10):\n",
    "    pCO.append( np.exp(-enesCO[v]/(KB*T))/qCO)\n",
    "    pCH.append( np.exp(-enesCH[v]/(KB*T))/qCH)\n",
    "\n",
    "fig = plt.figure(figsize=(12,5))\n",
    "ax1 = plt.subplot(121) #121 means: the subplots will be 1 row 2 columns and this one is subplot number 1\n",
    "ax2 = plt.subplot(122, sharey = ax1) #share-y means that it will share the y-axis with the ax1 plot\n",
    "\n",
    "ax1.plot(pCO)\n",
    "ax1.set_title(\"Boltzmann distribution for the vibrational C=O at T=\"+str(T)+\"K\")\n",
    "ax2.plot(pCH);\n",
    "ax2.set_title(\"Boltzmann distribution for the vibrational C-H at T=\"+str(T)+\"K\");"
   ]
  },
  {
   "cell_type": "markdown",
   "id": "693472c9",
   "metadata": {},
   "source": [
    "* Build a function that given a vibrational frequency, a temperature and a given number of levels, returns the partition function\n",
    "* Build a function that given a vibrational frequency, a temperature and a given number of levels, returns a list of normalized probabilities for each of those levels\n",
    "* Investigate how temperature changes the partition function and the probabilities. Plot in the same graph the probabilities of the levels at the two different temperatures.\n",
    "* Investigate how \"the density of states\" changes the partition function and the probabilities. Plot in the same graph the probabilities of the levels of two different frequencies. As you can see above when frequencies are 17500 and 3000 the Boltzmann distribution become almost identical. To visually see the difference compare lower frequencies such as 200cm-1 and 400cm-1\n"
   ]
  },
  {
   "cell_type": "markdown",
   "id": "251a6e30",
   "metadata": {},
   "source": [
    "# How degeneracy affect Boltzmann distributions\n",
    "\n",
    "Remember that the rotational levels have a degeneracy of 2J+1, therefore for each energy level one needs to multiply it by 2J+1. In this context we say that each *level* J has 2J+1 *states* of the same energy.\n",
    "\n",
    "To the probability becomes:\n",
    "\n",
    "$$\n",
    "p_J = \\frac{(2J+1)e^{-\\frac{-E_J}{K_B T}}}{\\sum_k^{all levels} (2k+1) e^{-\\frac{E_k}{K_B T}}}\n",
    "$$\n",
    "\n",
    "Remember that one can express the energy of the rotational levels as function of the rotational constant $B$\n",
    "\n",
    "$$\n",
    "E_J = J(J+1)B\n",
    "$$\n",
    "\n",
    "or with the moment of inertia\n",
    "\n",
    "$$\n",
    "E_J = J(J+1)\\frac{\\hbar^2}{2I}\n",
    "$$"
   ]
  },
  {
   "cell_type": "markdown",
   "id": "d506a235",
   "metadata": {},
   "source": [
    "* What would the Boltzmann distribution look like in the case of 2J+1 degeneracy? Build a python function that allows you to calculate the Boltzmann distribution. Plot in the same graph exploring the following variables:\n",
    "   * Comparing different temperatures\n",
    "   * Comparing different moments of inertia"
   ]
  },
  {
   "cell_type": "code",
   "execution_count": null,
   "id": "0e52377e",
   "metadata": {},
   "outputs": [],
   "source": []
  }
 ],
 "metadata": {
  "kernelspec": {
   "display_name": "Python 3 (ipykernel)",
   "language": "python",
   "name": "python3"
  },
  "language_info": {
   "codemirror_mode": {
    "name": "ipython",
    "version": 3
   },
   "file_extension": ".py",
   "mimetype": "text/x-python",
   "name": "python",
   "nbconvert_exporter": "python",
   "pygments_lexer": "ipython3",
   "version": "3.10.2"
  },
  "toc": {
   "base_numbering": 1,
   "nav_menu": {},
   "number_sections": true,
   "sideBar": true,
   "skip_h1_title": false,
   "title_cell": "Table of Contents",
   "title_sidebar": "Contents",
   "toc_cell": true,
   "toc_position": {},
   "toc_section_display": true,
   "toc_window_display": false
  }
 },
 "nbformat": 4,
 "nbformat_minor": 5
}
