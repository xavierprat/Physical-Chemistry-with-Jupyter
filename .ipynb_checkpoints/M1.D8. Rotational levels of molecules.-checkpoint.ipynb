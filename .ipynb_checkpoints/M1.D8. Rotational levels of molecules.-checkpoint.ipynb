{
 "cells": [
  {
   "cell_type": "markdown",
   "id": "eab524d6",
   "metadata": {
    "toc": true
   },
   "source": [
    "<h1>Table of Contents<span class=\"tocSkip\"></span></h1>\n",
    "<div class=\"toc\"><ul class=\"toc-item\"><li><span><a href=\"#The-Schrodinger-equation-for-nuclear-coordinates:-the-polar-coordinates-of-the-nuclear-motion-show-rotation\" data-toc-modified-id=\"The-Schrodinger-equation-for-nuclear-coordinates:-the-polar-coordinates-of-the-nuclear-motion-show-rotation-1\"><span class=\"toc-item-num\">1&nbsp;&nbsp;</span>The Schrodinger equation for nuclear coordinates: the polar coordinates of the nuclear motion show rotation</a></span></li><li><span><a href=\"#The-rigid-rotor-approximation\" data-toc-modified-id=\"The-rigid-rotor-approximation-2\"><span class=\"toc-item-num\">2&nbsp;&nbsp;</span>The rigid rotor approximation</a></span><ul class=\"toc-item\"><li><span><a href=\"#The-energy-levels-of-the-rigid-rotor-approximation.\" data-toc-modified-id=\"The-energy-levels-of-the-rigid-rotor-approximation.-2.1\"><span class=\"toc-item-num\">2.1&nbsp;&nbsp;</span>The energy levels of the rigid rotor approximation.</a></span><ul class=\"toc-item\"><li><span><a href=\"#Energy-spacing-between-rotational-levels\" data-toc-modified-id=\"Energy-spacing-between-rotational-levels-2.1.1\"><span class=\"toc-item-num\">2.1.1&nbsp;&nbsp;</span>Energy spacing between rotational levels</a></span></li><li><span><a href=\"#Effect-of-mass\" data-toc-modified-id=\"Effect-of-mass-2.1.2\"><span class=\"toc-item-num\">2.1.2&nbsp;&nbsp;</span>Effect of mass</a></span></li><li><span><a href=\"#Effect-of-bond-distance\" data-toc-modified-id=\"Effect-of-bond-distance-2.1.3\"><span class=\"toc-item-num\">2.1.3&nbsp;&nbsp;</span>Effect of bond distance</a></span></li></ul></li><li><span><a href=\"#Degeneracy-of-the-rigid-rotor\" data-toc-modified-id=\"Degeneracy-of-the-rigid-rotor-2.2\"><span class=\"toc-item-num\">2.2&nbsp;&nbsp;</span>Degeneracy of the rigid rotor</a></span></li></ul></li><li><span><a href=\"#Microwave-spectroscopy\" data-toc-modified-id=\"Microwave-spectroscopy-3\"><span class=\"toc-item-num\">3&nbsp;&nbsp;</span>Microwave spectroscopy</a></span></li><li><span><a href=\"#Questions\" data-toc-modified-id=\"Questions-4\"><span class=\"toc-item-num\">4&nbsp;&nbsp;</span>Questions</a></span></li></ul></div>"
   ]
  },
  {
   "cell_type": "markdown",
   "id": "675f65c8",
   "metadata": {},
   "source": [
    "# The Schrodinger equation for nuclear coordinates: the polar coordinates of the nuclear motion show rotation\n",
    "\n",
    "\n",
    "The Hamiltonian for the nuclear motion (after we have split the electronic from the nuclear motion) was already written before\n",
    "\n",
    "$$\n",
    "\\hat{H}_{nuclear} = \\sum_{k=nuclei}-\\frac{1}{2m_k}\\nabla_{k} + U(r) \n",
    "$$\n",
    "\n",
    "So we have a new differential equation to solve that depends on the nuclear coordinates \"xyz\" for any molecular system. \n",
    "\n",
    "$$\n",
    "\\sum_{k=nuclei}-\\frac{1}{2m_k}\\nabla_{k}\\Psi(xyz) + U(r)\\Psi(xyz) = E\\Psi(xyz)\n",
    "$$\n",
    "\n",
    "For a non-linear molecule with N atoms, it will have 3N coordinates. Out of these 3N coordinates, 3 will be translations in the xyz directions, 3 more will be rotations, and 3N-6 will be vibrations.\n",
    "\n",
    "When we solved the vibrational levels we had to split the nuclear motion and focus only on the interatomic distance $r$. This means that we change the $xyz$ coordinates into the same polar coordinates that we used for the hydrogen atom .\n",
    "\n",
    "$$\n",
    "\\Psi(xyz) \\rightarrow \\Psi(r\\theta\\phi)\n",
    "$$\n",
    "\n",
    "Under the harmonic and rigid rotor approximation that we will show below the radial solution (vibrational) and the angular solution (rotational) become separable.\n",
    "\n",
    "$$\n",
    "\\Psi(r\\theta\\phi) = \\Psi_{vib}(r) \\Psi_{rot}(\\theta\\phi)\n",
    "$$\n",
    "\n",
    "$$\n",
    "Energy_{nuclear} = E_{vib} + E_{rot}\n",
    "$$\n",
    "\n",
    "In any case the Schrodinger equation that describes the quantum rotation of a molecule is\n",
    "\n",
    "$$\n",
    "\\hat{H}\\Psi = \\frac{\\hat{L}^2}{2I}\\Psi(\\theta\\phi) = E_{rot}\\Psi(\\theta\\phi) \n",
    "$$\n",
    "\n",
    "Where $I$ is the moment of inertia and $\\hat{L}$ is the angular momentum operator in polar coordinates\n",
    "\n",
    "$$\n",
    "\\hat{L} = -\\frac{\\hbar^2}{2I}\\left[\\frac{1}{sin\\theta}\\frac{\\partial}{\\partial\\theta}\\left(sin\\theta\\frac{\\partial\\Psi}{\\partial\\theta}\\right)+ \\frac{1}{sin^2\\theta}\\frac{\\partial^2\\Psi}{\\partial\\phi^2}\\right]\n",
    "$$\n",
    "\n",
    "Notice that if we consider only the angular coordinates $(\\theta,\\phi)$ of the system, it should remind us of the proton-electron system that we saw for the Hydrogen atom. In fact, the solutions to the angular coordinates are related to the quantum angular momentum of the system and, like in the hydrogen atom, are the [Associated Legendre Polynomials](https://en.wikipedia.org/wiki/Associated_Legendre_polynomials). \n"
   ]
  },
  {
   "cell_type": "markdown",
   "id": "fc1bcf7e",
   "metadata": {},
   "source": [
    "# The rigid rotor approximation\n",
    "\n",
    "The rigid rotor approximation assumes that the moment of inertia $I$ is constant at all rotational levels, which is an approximation as one would expect that as the molecule rotates faster the moment of inertia is larger. \n",
    "This is why at higher rotational levels we would need to correct this approximation with some vibrational-rotational coupling, in a similar way that for the electron-proton there was also coupling between the angular and radial part.\n",
    "\n",
    "<img src=\"http://hyperphysics.phy-astr.gsu.edu/hbase/molecule/imgmol/midiat1.png\" />\n",
    "\n",
    "The moment of inertia of a diatomic molecule is\n",
    "\n",
    "$$\n",
    "I = m_1 r_1^2 + m_2 r_2^2\n",
    "$$\n",
    "\n",
    "or using the reduced mass $\\mu$ definition and the bond distance $R = r_1 + r_2$\n",
    "\n",
    "$$\n",
    "\\mu = \\frac{m_1 m_2}{m_1 + m_2}\n",
    "$$\n",
    "\n",
    "$$\n",
    "I = \\mu R^2\n",
    "$$\n",
    "\n",
    "\n",
    "## The energy levels of the rigid rotor approximation.\n",
    "\n",
    "\n",
    "The energy levels of the rigid rotor depend on the quantum number $J=0,1,2,3...$, and its expression is\n",
    "\n",
    "$$\n",
    "E_J = \\frac{\\hbar^2}{2I} J(J+1)\n",
    "$$\n",
    "\n",
    "The value of $\\frac{\\hbar^2}{2I}$ depends on the molecular structure and it's called the rotational constant $B$ and it plays a similar role as the frequency in the vibrational levels. So the energy levels can be written as\n",
    "\n",
    "$$\n",
    "B = \\frac{\\hbar^2}{2I}\n",
    "$$\n",
    "\n",
    "$$\n",
    "E_J = B J(J+1)\n",
    "$$\n",
    "Again, B is a constant for a molecule and the quantum number $J=0,1,2,3,4...$\n",
    "\n",
    "\n",
    "### Energy spacing between rotational levels\n",
    "\n",
    "\n",
    "* What is the zero point energy for the rigid rotor system?\n",
    "* Plot the first 8 rotational levels"
   ]
  },
  {
   "cell_type": "code",
   "execution_count": 1,
   "id": "46d3cfff",
   "metadata": {},
   "outputs": [
    {
     "data": {
      "image/png": "[encoded data removed]",
      "text/plain": [
       "<Figure size 504x360 with 1 Axes>"
      ]
     },
     "metadata": {
      "needs_background": "light"
     },
     "output_type": "display_data"
    }
   ],
   "source": [
    "import matplotlib.pyplot as plt \n",
    "import numpy as np\n",
    "\n",
    "#constants\n",
    "hbar=1\n",
    "#molecular properties\n",
    "m1=1\n",
    "m2=1\n",
    "R=1\n",
    "\n",
    "fig = plt.figure(figsize=(7,5))\n",
    "ax1 = plt.subplot(111)\n",
    "ax1.set_title(\"Rotational levels for m1=\"+str(m1)+\" m2=\"+str(m2)+\" R=\"+str(R))\n",
    "ax1.set_ylabel(\"Rotational Energy\");"
   ]
  },
  {
   "cell_type": "code",
   "execution_count": 9,
   "id": "431b8799",
   "metadata": {},
   "outputs": [
    {
     "data": {
      "text/html": [
       "<div>\n",
       "<style scoped>\n",
       "    .dataframe tbody tr th:only-of-type {\n",
       "        vertical-align: middle;\n",
       "    }\n",
       "\n",
       "    .dataframe tbody tr th {\n",
       "        vertical-align: top;\n",
       "    }\n",
       "\n",
       "    .dataframe thead th {\n",
       "        text-align: right;\n",
       "    }\n",
       "</style>\n",
       "<table border=\"1\" class=\"dataframe\">\n",
       "  <thead>\n",
       "    <tr style=\"text-align: right;\">\n",
       "      <th></th>\n",
       "      <th>Eigenvalue J</th>\n",
       "      <th>E m=1, m=1, R=1</th>\n",
       "      <th>E m=1, m=2, R=1</th>\n",
       "    </tr>\n",
       "  </thead>\n",
       "  <tbody>\n",
       "    <tr>\n",
       "      <th>0</th>\n",
       "      <td>0</td>\n",
       "      <td>0</td>\n",
       "      <td>0</td>\n",
       "    </tr>\n",
       "    <tr>\n",
       "      <th>1</th>\n",
       "      <td>1</td>\n",
       "      <td>1</td>\n",
       "      <td>1</td>\n",
       "    </tr>\n",
       "    <tr>\n",
       "      <th>2</th>\n",
       "      <td>2</td>\n",
       "      <td>2</td>\n",
       "      <td>2</td>\n",
       "    </tr>\n",
       "    <tr>\n",
       "      <th>3</th>\n",
       "      <td>3</td>\n",
       "      <td>3</td>\n",
       "      <td>3</td>\n",
       "    </tr>\n",
       "    <tr>\n",
       "      <th>4</th>\n",
       "      <td>4</td>\n",
       "      <td>4</td>\n",
       "      <td>4</td>\n",
       "    </tr>\n",
       "    <tr>\n",
       "      <th>5</th>\n",
       "      <td>5</td>\n",
       "      <td>5</td>\n",
       "      <td>5</td>\n",
       "    </tr>\n",
       "    <tr>\n",
       "      <th>6</th>\n",
       "      <td>6</td>\n",
       "      <td>6</td>\n",
       "      <td>6</td>\n",
       "    </tr>\n",
       "    <tr>\n",
       "      <th>7</th>\n",
       "      <td>7</td>\n",
       "      <td>7</td>\n",
       "      <td>7</td>\n",
       "    </tr>\n",
       "  </tbody>\n",
       "</table>\n",
       "</div>"
      ],
      "text/plain": [
       "   Eigenvalue J  E m=1, m=1, R=1  E m=1, m=2, R=1\n",
       "0             0                0                0\n",
       "1             1                1                1\n",
       "2             2                2                2\n",
       "3             3                3                3\n",
       "4             4                4                4\n",
       "5             5                5                5\n",
       "6             6                6                6\n",
       "7             7                7                7"
      ]
     },
     "metadata": {},
     "output_type": "display_data"
    }
   ],
   "source": [
    "import pandas as pd\n",
    "\n",
    "rotationalTable = pd.DataFrame()\n",
    "\n",
    "Jvalues=list(range(8))\n",
    "Em1m1R1=[]\n",
    "Em1m2R1=[]\n",
    "rotationalTable[\"Eigenvalue J\"] = Jvalues\n",
    "for j in Jvalues:\n",
    "    Em1m1R1.append(j)\n",
    "    Em1m2R1.append(j)\n",
    "rotationalTable[\"E m=1, m=1, R=1\"] = Em1m1R1\n",
    "rotationalTable[\"E m=1, m=2, R=1\"] = Em1m2R1\n",
    "display(rotationalTable)"
   ]
  },
  {
   "cell_type": "markdown",
   "id": "320f7aee",
   "metadata": {},
   "source": [
    "### Effect of mass\n",
    "\n",
    "* Double the mass of one of the atoms to assess the effect of the mass. You may want to compare the two plots showing the energy levels next to each other.\n",
    "* How does the distribution of mass effect the rotational levels? Does the system (m1=2,m2=2) have the same rotational levels as the system (m1=1, m2=3)?\n",
    "* Besides a plot, build a table with the values."
   ]
  },
  {
   "cell_type": "code",
   "execution_count": null,
   "id": "65a8b8e7",
   "metadata": {},
   "outputs": [],
   "source": []
  },
  {
   "cell_type": "markdown",
   "id": "2cca5db9",
   "metadata": {},
   "source": [
    "### Effect of bond distance\n",
    "\n",
    "* Double the bond distance and assess the effect on rotational levels\n",
    "* Besides a plot, build a table with the values.\n",
    "* What has a larger impact on rotational levels, changes in the mass or changes in the bond distance?\n",
    "* Based on this trend, compare the rotational energy levels for N2, O2, F2, CO, NO"
   ]
  },
  {
   "cell_type": "code",
   "execution_count": null,
   "id": "55641e33",
   "metadata": {},
   "outputs": [],
   "source": []
  },
  {
   "cell_type": "markdown",
   "id": "a2930dbb",
   "metadata": {},
   "source": [
    "## Degeneracy of the rigid rotor\n",
    "\n",
    "The quantum number $J$ is the quantum number that appears in the eigenvalues of the angular momentum\n",
    "The degeneracy of the rigid rotor levels is $2J+1$. \n",
    "\n",
    "We say that for the rotational level J there are $2J+1$ states.\n",
    "This expression should remind you of the degeneracy for the \n",
    "levels of the hydrogen atom. \n",
    "The \"s\" orbitals ($\\ell=0$) had degeneracy of ($2\\cdot 0 +1 =2 $), the \"p\" orbitals ($\\ell=1$) had a degeneracy of $2\\cdot 1+1=3$, the \"d\" orbitals ($\\ell=2$) had a degeneacy of $2\\cdot 2+1=5$\n",
    "\n",
    "The degeneracy will be important to understand in our next module the most populated states in rotational levels.\n",
    "\n",
    "* Build a table showing the degeneracy of the first 10 rotational levels."
   ]
  },
  {
   "cell_type": "code",
   "execution_count": null,
   "id": "f1b0666a",
   "metadata": {},
   "outputs": [],
   "source": []
  },
  {
   "cell_type": "markdown",
   "id": "0da1db5f",
   "metadata": {},
   "source": [
    "# Microwave spectroscopy\n",
    "\n",
    "Some rotational levels absorb light in the microwave region of the electromagnetic spectrum.\n",
    "Non-polar molecules will not absorb because they have no dipole moment. In fact, out of the three directions in which a molecule rotates, only the directions that change the direction of the dipole will absorb light.\n",
    "This observation is the same as the vibrational levels. Only the vibrations that change the dipole moment (in magnitude or direction) will absorb in the IR spectrum.\n",
    "\n",
    "The rules however is that a molecule cannot \"jump\" from any rotational level to any other. The rules are (at this level of approximation) that it has to change by one unit\n",
    "\n",
    "The allowed rotational transitions are:\n",
    "\n",
    "$$\n",
    "\\Delta J = \\pm 1\n",
    "$$\n",
    "\n",
    "* Based on this rule, build a table showing the energy for all the possible absorptions between the first five rotational levels."
   ]
  },
  {
   "cell_type": "markdown",
   "id": "7a2d637a",
   "metadata": {},
   "source": [
    "#  Questions\n",
    "\n",
    "* Submit in a separate notebook the exercises listed above"
   ]
  },
  {
   "cell_type": "code",
   "execution_count": null,
   "id": "9abf7863",
   "metadata": {},
   "outputs": [],
   "source": []
  }
 ],
 "metadata": {
  "kernelspec": {
   "display_name": "Python 3 (ipykernel)",
   "language": "python",
   "name": "python3"
  },
  "language_info": {
   "codemirror_mode": {
    "name": "ipython",
    "version": 3
   },
   "file_extension": ".py",
   "mimetype": "text/x-python",
   "name": "python",
   "nbconvert_exporter": "python",
   "pygments_lexer": "ipython3",
   "version": "3.10.2"
  },
  "toc": {
   "base_numbering": 1,
   "nav_menu": {},
   "number_sections": true,
   "sideBar": true,
   "skip_h1_title": false,
   "title_cell": "Table of Contents",
   "title_sidebar": "Contents",
   "toc_cell": true,
   "toc_position": {},
   "toc_section_display": true,
   "toc_window_display": false
  }
 },
 "nbformat": 4,
 "nbformat_minor": 5
}
