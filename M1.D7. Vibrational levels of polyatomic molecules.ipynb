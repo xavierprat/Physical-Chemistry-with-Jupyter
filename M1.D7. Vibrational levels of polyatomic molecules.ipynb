{
 "cells": [
  {
   "cell_type": "markdown",
   "id": "66de7774",
   "metadata": {
    "toc": true
   },
   "source": [
    "<h1>Table of Contents<span class=\"tocSkip\"></span></h1>\n",
    "<div class=\"toc\"><ul class=\"toc-item\"><li><span><a href=\"#Reviewing-M1D6\" data-toc-modified-id=\"Reviewing-M1D6-1\"><span class=\"toc-item-num\">1&nbsp;&nbsp;</span>Reviewing M1D6</a></span></li><li><span><a href=\"#Normal-models-of-vibration\" data-toc-modified-id=\"Normal-models-of-vibration-2\"><span class=\"toc-item-num\">2&nbsp;&nbsp;</span>Normal models of vibration</a></span></li></ul></div>"
   ]
  },
  {
   "cell_type": "markdown",
   "id": "a1282842",
   "metadata": {},
   "source": [
    "# Reviewing M1D6\n",
    "\n",
    "* When drawing the energy levels, draw the energy levels so that xmin and xmax match end where the parabola is.\n",
    "* Use the force constant and reduced mass to calculate the frequency of vibration\n",
    "* Build a table for the three molecules that you computed including reduced mass, force constant, frequency of vibration and calculated frequency of absorption and experimental frequency of absorption."
   ]
  },
  {
   "cell_type": "markdown",
   "id": "558484e4",
   "metadata": {},
   "source": [
    "# Normal models of vibration\n",
    "\n",
    "For molecules with more than two atoms the force constants are multiple and the modes of vibration are also multiple. The second derviative of the energy is not one number, but a matrix of numbers. This matrix is called the Hessian.\n",
    "\n",
    "$$\n",
    "H_{ij} = \\frac{\\delta^{2}E}{\\delta x_i \\delta x_j}\n",
    "$$\n",
    "\n",
    "$$\n",
    "\\mathbb{H}=\n",
    "\\begin{pmatrix}\n",
    "H_{11} & H_{12} & H_{13} \\\\\n",
    "H_{21} & H_{22} & H_{23} \\\\\n",
    "H_{31} & H_{32} & H_{33} \\\\\n",
    "\\end{pmatrix}\n",
    "$$\n",
    "This matrix using the xyz coordinates is not diagonal, but there is a system of coordinates called the normal modes of vibration (NMV) for which the Hessian is diagonal. \n",
    "\n",
    "In order to obtain the NMV we must diagonalize the Hessian matrix. The eigenvectors $\\mathbb{V}$ will be the normal models of vibration and the eigenvalues will be the force constant associated to that molecular vibration.\n",
    "\n",
    "$$\n",
    "\\mathbb{H_{diagonal}}= \\mathbb{V H V^{-1}} =\n",
    "\\begin{pmatrix}\n",
    "k_{1} & 0 & 0 \\\\\n",
    "0 & k_{2} & 0 \\\\\n",
    "0 & 0 & k_{3} \\\\\n",
    "\\end{pmatrix}\n",
    "$$\n",
    "The matrix diagonalization process is a common strategy to reduce dimensionality. Other common ways to reduce dimensionality is by [principal component analysis](https://en.wikipedia.org/wiki/Principal_component_analysis).\n",
    "\n",
    "* Use PSI4 to run the frequency analysis for water, carbon dioxide, sulfur dioxide, nitrogen dioxide.\n",
    "* How many \"normal models of vibration\" each molecule have? Remember the 3N-6 rule (3N-5 for linear)\n",
    "* Check your answer by looking at the vibrations here: http://chemdata.r.umn.edu/models360\n",
    "* Parse the outputs of your calculation and show the value of the frequencies of absorption for each molecule."
   ]
  },
  {
   "cell_type": "code",
   "execution_count": null,
   "id": "765e5863",
   "metadata": {},
   "outputs": [],
   "source": []
  }
 ],
 "metadata": {
  "kernelspec": {
   "display_name": "Python 3 (ipykernel)",
   "language": "python",
   "name": "python3"
  },
  "language_info": {
   "codemirror_mode": {
    "name": "ipython",
    "version": 3
   },
   "file_extension": ".py",
   "mimetype": "text/x-python",
   "name": "python",
   "nbconvert_exporter": "python",
   "pygments_lexer": "ipython3",
   "version": "3.7.12"
  },
  "toc": {
   "base_numbering": 1,
   "nav_menu": {},
   "number_sections": true,
   "sideBar": true,
   "skip_h1_title": false,
   "title_cell": "Table of Contents",
   "title_sidebar": "Contents",
   "toc_cell": true,
   "toc_position": {},
   "toc_section_display": true,
   "toc_window_display": false
  }
 },
 "nbformat": 4,
 "nbformat_minor": 5
}
