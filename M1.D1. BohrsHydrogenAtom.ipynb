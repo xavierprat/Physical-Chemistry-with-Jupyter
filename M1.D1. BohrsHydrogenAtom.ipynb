{
 "cells": [
  {
   "cell_type": "markdown",
   "metadata": {
    "toc": true
   },
   "source": [
    "<h1>Table of Contents<span class=\"tocSkip\"></span></h1>\n",
    "<div class=\"toc\"><ul class=\"toc-item\"><li><span><a href=\"#Module-1---Day-1:-Bohr's-hydrogen-atom\" data-toc-modified-id=\"Module-1---Day-1:-Bohr's-hydrogen-atom-1\"><span class=\"toc-item-num\">1&nbsp;&nbsp;</span>Module 1 - Day 1: Bohr's hydrogen atom</a></span><ul class=\"toc-item\"><li><span><a href=\"#Experimental-Spectral-Series\" data-toc-modified-id=\"Experimental-Spectral-Series-1.1\"><span class=\"toc-item-num\">1.1&nbsp;&nbsp;</span>Experimental Spectral Series</a></span></li><li><span><a href=\"#2.-Bohr's-hydrogen-model\" data-toc-modified-id=\"2.-Bohr's-hydrogen-model-1.2\"><span class=\"toc-item-num\">1.2&nbsp;&nbsp;</span>2. Bohr's hydrogen model</a></span><ul class=\"toc-item\"><li><span><a href=\"#Logarithmic-scale\" data-toc-modified-id=\"Logarithmic-scale-1.2.1\"><span class=\"toc-item-num\">1.2.1&nbsp;&nbsp;</span>Logarithmic scale</a></span></li></ul></li><li><span><a href=\"#3.-Calculating-wavelengths-of-the-Lyman-series\" data-toc-modified-id=\"3.-Calculating-wavelengths-of-the-Lyman-series-1.3\"><span class=\"toc-item-num\">1.3&nbsp;&nbsp;</span>3. Calculating wavelengths of the Lyman series</a></span></li><li><span><a href=\"#What-to-report\" data-toc-modified-id=\"What-to-report-1.4\"><span class=\"toc-item-num\">1.4&nbsp;&nbsp;</span>What to report</a></span></li><li><span><a href=\"#References\" data-toc-modified-id=\"References-1.5\"><span class=\"toc-item-num\">1.5&nbsp;&nbsp;</span>References</a></span></li></ul></li></ul></div>"
   ]
  },
  {
   "cell_type": "markdown",
   "metadata": {},
   "source": [
    "# Module 1 - Day 1: Bohr's hydrogen atom\n",
    "\n",
    "**Table of contents**\n",
    "1. Experimental Spectral Series\n",
    "2. Bohr's hydrogen atom\n",
    "    1. Plotting the energy levels\n",
    "    1. Plotting in logarithmic scale\n",
    "3. Calculating Wavelengths of the Lyman Series\n",
    "4. What to report\n",
    "5. References\n",
    "\n",
    "**Context and goal**\n",
    "Before we discuss all the energy levels in atoms and molecules it may be interesting to discuss that scientists already knew that matter emitted certain values of light not a continuum. Explaining the spectral series of Hydrogen was a fundamental step towards the development of quantum theory for atoms and molecules.\n",
    "Our goal today is to try to reproduce with Python the experimental spectral series of hydrogen.\n",
    "\n",
    "## Experimental Spectral Series\n",
    "\n",
    "For a long time scientists knew that the light that was coming out of hydrogen could be wrapped in series.\n",
    "\n",
    "* Lyman's series (nf = 1)\n",
    "* Balmer's series (nf = 2)\n",
    "* Paschen's series (nf = 3)\n",
    "* Bracket's series (nf = 4)\n",
    "\n",
    "<img src=\"https://upload.wikimedia.org/wikipedia/commons/4/41/Hydrogen_spectrum.svg\"/>\n",
    "\n",
    "Out of these series, only the Balmber series is visible \n",
    "<img src=\"https://upload.wikimedia.org/wikipedia/commons/6/60/Emission_spectrum-H.svg\" />\n",
    "\n",
    "There were even experimental equations to explain those lines and predict the wavelength of emission. The Rydeberg equation\n",
    "\n",
    "$$\n",
    "\\frac{1}{\\lambda} = R \\left( \\frac{1}{n_f^{2}} - \\frac{1}{n_i^{2}} \\right)\n",
    "$$\n",
    "\n",
    "Where $R = 1.09677583×10^{7} m^{−1}$\n",
    "\n",
    "\n",
    "\n",
    "## 2. Bohr's hydrogen model\n",
    "\n",
    "Neils Bohr came up with they hypothesis that the electron \"orbits\" around the nucleus at a given and fixed energy level. For the original paper see <a href=\"https://link.springer.com/chapter/10.1007%2F978-3-319-14316-3_2\">here</a>\n",
    "\n",
    "<img src=\"https://upload.wikimedia.org/wikipedia/commons/b/b2/Hydrogen_transitions.svg\"/>\n",
    "\n",
    "The energy of the orbit depends on the quantum number $n = 1,2,3,4...$\n",
    "\n",
    "$$ E_n = \\frac{-13.6 eV}{n^{2}}\n",
    "$$\n",
    "\n",
    "Notice that the above equation is in electron Volts. That is, the unit of energy that one electron has in a 1 Volt poential: $q_{e^{-}} = 1.6*10^{-19} Coulombs $; $E=q*V$\n",
    "\n",
    "$$\\frac{  m_e e^4}{2 ( 4 \\pi \\varepsilon_0)^2 \\hbar^2 } =\\frac{m_{\\text{e}} e^4}{8 h^2 \\varepsilon_0^2}= 1 \\,\\text{Ry} = 13.605\\;693\\;122\\;994(26) \\,\\text{eV}$$\n",
    "\n",
    "**Lets do some Python**\n",
    "\n",
    "The levels can be calculated with a loop"
   ]
  },
  {
   "cell_type": "code",
   "execution_count": 29,
   "metadata": {},
   "outputs": [
    {
     "name": "stdout",
     "output_type": "stream",
     "text": [
      "[-13.605693122994, -3.4014232807485, -1.5117436803326667, -0.850355820187125, -0.54422772491976, -0.3779359200831667, -0.2776672065917143, -0.21258895504678124, -0.16797152003696295, -0.13605693122994]\n"
     ]
    }
   ],
   "source": [
    "#lets get the energy levels using Bohr's equation\n",
    "\n",
    "levels = []\n",
    "numberLevels = 10\n",
    "eV = 13.605693122994\n",
    "for n in range(1,numberLevels+1):\n",
    "    ene = -(eV/n**2)\n",
    "    levels.append(ene)\n",
    "    \n",
    "print(levels)"
   ]
  },
  {
   "cell_type": "markdown",
   "metadata": {
    "tags": [
     "Exercise"
    ]
   },
   "source": [
    "**Your turn**: \n",
    "\n",
    "write a loop to print the first twenty levels of the hydrogen atom\n"
   ]
  },
  {
   "cell_type": "markdown",
   "metadata": {},
   "source": [
    "The levels can be graphically displayed in a plot"
   ]
  },
  {
   "cell_type": "code",
   "execution_count": 31,
   "metadata": {},
   "outputs": [
    {
     "name": "stdout",
     "output_type": "stream",
     "text": [
      "The variable numberLevels is =  10  and the number of levels computed is  10\n"
     ]
    },
    {
     "data": {
      "image/png": "[encoded data removed]",
      "text/plain": [
       "<Figure size 432x288 with 1 Axes>"
      ]
     },
     "metadata": {
      "needs_background": "light"
     },
     "output_type": "display_data"
    }
   ],
   "source": [
    "import matplotlib.pyplot as plt\n",
    "import numpy as np\n",
    "\n",
    "print(\"The variable numberLevels is = \",numberLevels,\" and the number of levels computed is \",len(levels))\n",
    "x = [1]*numberLevels #all points in the x axis will have a value of 1 so that they are in vertical order\n",
    "y = levels #the levels is the list of energies computer in the previous cells\n",
    "plt.scatter(x, y,marker = \"_\",s=1000) #s is the marker size, we make it big (1000) to see it\n",
    "plt.title(\"Electronic energy levels of hydrogen. E(eV)\")\n",
    "plt.show()"
   ]
  },
  {
   "cell_type": "markdown",
   "metadata": {
    "tags": [
     "Exercise"
    ]
   },
   "source": [
    "**Your turn**\n",
    "* Notice that the previous code starts with \"import\". What does that do?\n",
    "* Notice that the previous code has the \"#\" sign. What does that do?"
   ]
  },
  {
   "cell_type": "markdown",
   "metadata": {},
   "source": [
    "### Logarithmic scale\n",
    "\n",
    "As you can see higher energy levels merge very easily. We can use a logarithmic scale to see more levels"
   ]
  },
  {
   "cell_type": "code",
   "execution_count": 32,
   "metadata": {},
   "outputs": [
    {
     "name": "stdout",
     "output_type": "stream",
     "text": [
      "The variable numberLevels is =  10  and the number of levels computed is  10\n"
     ]
    },
    {
     "data": {
      "image/png": "[encoded data removed]",
      "text/plain": [
       "<Figure size 432x288 with 1 Axes>"
      ]
     },
     "metadata": {
      "needs_background": "light"
     },
     "output_type": "display_data"
    }
   ],
   "source": [
    "import math\n",
    "\n",
    "print(\"The variable numberLevels is = \",numberLevels,\" and the number of levels computed is \",len(levels))\n",
    "loglevels = []\n",
    "for n in range(1,numberLevels+1):\n",
    "    ene = (eV/n**2)\n",
    "    logene = -math.log(ene)\n",
    "    #print(ene,logene)\n",
    "    loglevels.append(logene)\n",
    "    \n",
    "x = [1]*numberLevels\n",
    "y = loglevels\n",
    "plt.scatter(x, y,marker = \"_\",s=1000)\n",
    "plt.title(\"Electronic energy levels of hydrogen. E(log(eV))\")\n",
    "plt.show()"
   ]
  },
  {
   "cell_type": "markdown",
   "metadata": {
    "tags": [
     "Exercise"
    ]
   },
   "source": [
    "* Why in the logarithmic scale some energies are negative and others are positive?"
   ]
  },
  {
   "cell_type": "markdown",
   "metadata": {},
   "source": [
    "## 3. Calculating wavelengths of the Lyman series\n",
    "\n",
    "Since we know the energy of each electronic level, we can calculate the energy difference between levels and convert the energy into wavelength of the photon involved.\n",
    "\n",
    "* We need to convert the units of energy eV into joules knowing that $1.6x10^{-19} J = 1 eV$\n",
    "* Remember that the speed of light relate the wavelength (in meters) with the frequency (in $s^{-1}$) of the photon\n",
    "\n",
    "$$ c = \\lambda *\\nu$$ $$E = h*\\nu = \\frac{h*c}{\\lambda} ; \\lambda = \\frac{h*c}{E}$$ "
   ]
  },
  {
   "cell_type": "code",
   "execution_count": 33,
   "metadata": {},
   "outputs": [
    {
     "name": "stdout",
     "output_type": "stream",
     "text": [
      "The energy difference between level 2 and level 1  is = 1.6349042565416829e-18 J. And Lamda= 121.5022724556172 nm\n",
      "The energy difference between level 3 and level 1  is = 1.937664304049402e-18 J. And Lamda= 102.51754238442699 nm\n",
      "The energy difference between level 4 and level 1  is = 2.0436303206771033e-18 J. And Lamda= 97.20181796449377 nm\n",
      "The energy difference between level 5 and level 1  is = 2.0926774483733542e-18 J. And Lamda= 94.92365035595093 nm\n",
      "The energy difference between level 6 and level 1  is = 2.1193203325540334e-18 J. And Lamda= 93.73032446576184 nm\n",
      "The energy difference between level 7 and level 1  is = 2.1353851514013818e-18 J. And Lamda= 93.0251773488319 nm\n",
      "The energy difference between level 8 and level 1  is = 2.145811836710959e-18 J. And Lamda= 92.57315996618453 nm\n",
      "The energy difference between level 9 and level 1  is = 2.152960337832669e-18 J. And Lamda= 92.2657881459843 nm\n",
      "The energy difference between level 10 and level 1  is = 2.1580736186350215e-18 J. And Lamda= 92.04717610274028 nm\n",
      "[121.5022724556172, 102.51754238442699, 97.20181796449377, 94.92365035595093, 93.73032446576184, 93.0251773488319, 92.57315996618453, 92.2657881459843, 92.04717610274028]\n"
     ]
    }
   ],
   "source": [
    "#now let's see what the spectrum looks like\n",
    "\n",
    "#constants\n",
    "c = 299792458 \n",
    "h = 6.62607004*10**(-34)\n",
    "qe = 1.60217662*10**(-19)\n",
    "\n",
    "nf = 1 #Calculating the Lyman series, so the final level is always 1 \n",
    "wavelengths = []\n",
    "for ni in range(nf+1,numberLevels+1):\n",
    "    #the emission process is exothermic, so it's negative, let's make it positive for getting the wavelengths\n",
    "    energy_difference = -(levels[nf-1] - levels[ni-1])*qe\n",
    "    lamda = (c*h/energy_difference)*10**9\n",
    "    print(\"The energy difference between level\",ni, \"and level\",nf,\" is =\",energy_difference,\"J. And Lamda=\",lamda,\"nm\")\n",
    "    wavelengths.append(lamda)\n",
    "    \n",
    "print(wavelengths)\n"
   ]
  },
  {
   "cell_type": "markdown",
   "metadata": {
    "tags": [
     "Exercise"
    ]
   },
   "source": [
    "* Find in the code where the energy is converted from eV to Joules.\n",
    "* Find in the code where the wavelength is converted into nanometers.\n",
    "* At what wavelength does the Lyman series converge? Why does it converge?\n",
    "* To view the wavelengths of the Balmer series you only need to change one value above. Which one is it? At what value of wavelength does the Balmer series converge?"
   ]
  },
  {
   "cell_type": "code",
   "execution_count": 44,
   "metadata": {},
   "outputs": [
    {
     "data": {
      "image/png": "[encoded data removed]",
      "text/plain": [
       "<Figure size 432x288 with 1 Axes>"
      ]
     },
     "metadata": {
      "needs_background": "light"
     },
     "output_type": "display_data"
    }
   ],
   "source": [
    "y = [1]*(numberLevels-nf) # this is the height of the signal. It doesnt matter, just height = 1\n",
    "fig, ax = plt.subplots()\n",
    "ax.stem(wavelengths, y, markerfmt=' ',linefmt='red')\n",
    "plt.title(\"The Lyman series. Wavelength(nm)\")\n",
    "plt.show()"
   ]
  },
  {
   "cell_type": "markdown",
   "metadata": {
    "tags": [
     "Exercise"
    ]
   },
   "source": [
    "* In the graph above which line corresponds to smallest \"electron jump\"? Which line to the largest \"electron jump\"?"
   ]
  },
  {
   "cell_type": "markdown",
   "metadata": {},
   "source": [
    "## What to report\n",
    "\n",
    "1. In a separate notebook answer all the questions asked in cells labeled \"Exercise\".\n",
    "2. Find the wavelength at which each the series (Lyman, Balmer, Paschen...) converge\n",
    "3. Plot all the series\n",
    "4. Find the frequency at which each the series (Lyman, Balmer, Paschen...) converge\n",
    "5. Plot the Lyman series in terms of frequencies. Identify which line corresponds to the largest \"electron jump\".\n",
    "6. **Only you think that the previous exercises were too easy**, go ahead and plot in a single graph all the series so that you can reproduce the first image of this notebook. (*I don't expect anyone to do this, but if you're having the time of your life with Python I want to make sure that you see that there's always more \"fun\" to be had*)"
   ]
  },
  {
   "cell_type": "markdown",
   "metadata": {},
   "source": [
    "## References\n",
    "* https://en.wikipedia.org/wiki/Hydrogen_spectral_series\n",
    "* https://www.khanacademy.org/science/physics/quantum-physics/atoms-and-electrons/a/bohrs-model-of-hydrogen \n",
    "* https://link.springer.com/chapter/10.1007%2F978-3-319-14316-3_2"
   ]
  }
 ],
 "metadata": {
  "celltoolbar": "Tags",
  "kernelspec": {
   "display_name": "Python 3 (ipykernel)",
   "language": "python",
   "name": "python3"
  },
  "language_info": {
   "codemirror_mode": {
    "name": "ipython",
    "version": 3
   },
   "file_extension": ".py",
   "mimetype": "text/x-python",
   "name": "python",
   "nbconvert_exporter": "python",
   "pygments_lexer": "ipython3",
   "version": "3.7.12"
  },
  "toc": {
   "base_numbering": 1,
   "nav_menu": {},
   "number_sections": true,
   "sideBar": true,
   "skip_h1_title": false,
   "title_cell": "Table of Contents",
   "title_sidebar": "Contents",
   "toc_cell": true,
   "toc_position": {},
   "toc_section_display": true,
   "toc_window_display": true
  }
 },
 "nbformat": 4,
 "nbformat_minor": 4
}
